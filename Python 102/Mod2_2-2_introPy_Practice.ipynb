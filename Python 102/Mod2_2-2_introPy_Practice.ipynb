{
  "nbformat": 4,
  "nbformat_minor": 0,
  "metadata": {
    "colab": {
      "name": "Mod2_2-2_introPy_Practice.ipynb",
      "version": "0.3.2",
      "provenance": [],
      "include_colab_link": true
    },
    "language_info": {
      "codemirror_mode": {
        "name": "ipython",
        "version": 3
      },
      "file_extension": ".py",
      "mimetype": "text/x-python",
      "name": "python",
      "nbconvert_exporter": "python",
      "pygments_lexer": "ipython3",
      "version": "3.5.1"
    },
    "kernelspec": {
      "display_name": "Python 3",
      "language": "python",
      "name": "python3"
    }
  },
  "cells": [
    {
      "cell_type": "markdown",
      "metadata": {
        "id": "view-in-github",
        "colab_type": "text"
      },
      "source": [
        "<a href=\"https://colab.research.google.com/github/thecodinguru/Microsoft-EDX-Python/blob/master/Python%20102/Mod2_2-2_introPy_Practice.ipynb\" target=\"_parent\"><img src=\"https://colab.research.google.com/assets/colab-badge.svg\" alt=\"Open In Colab\"/></a>"
      ]
    },
    {
      "cell_type": "markdown",
      "metadata": {
        "id": "jHKnMsbUQGpH",
        "colab_type": "text"
      },
      "source": [
        "# 2-2 Intro Python Practice\n",
        "## Lists\n",
        "<font size=\"5\" color=\"#00A0B2\"  face=\"verdana\"> <B>Student will be able to</B></font>  \n",
        "- Create Lists\n",
        "- Access items in a list\n",
        "- Add Items to the end of a list\n",
        "- Insert items into a list\n",
        "- Delete items from a list"
      ]
    },
    {
      "cell_type": "markdown",
      "metadata": {
        "id": "mmueI89CQGpK",
        "colab_type": "text"
      },
      "source": [
        "## Create Lists"
      ]
    },
    {
      "cell_type": "code",
      "metadata": {
        "id": "15fCZv4OQGpM",
        "colab_type": "code",
        "colab": {
          "base_uri": "https://localhost:8080/",
          "height": 34
        },
        "outputId": "776a87e8-f037-42e4-94dd-bea39cebc609"
      },
      "source": [
        "# [ ] create and populate list called days_of_week then print it\n",
        "\n",
        "days_of_week = [\"Monday\", \"Tuesday\", \"Wednesday\", \"Thursday\", \"Friday\", \"Saturday\", \"Sunday\"]\n",
        "\n",
        "print(days_of_week)"
      ],
      "execution_count": 1,
      "outputs": [
        {
          "output_type": "stream",
          "text": [
            "['Monday', 'Tuesday', 'Wednesday', 'Thursday', 'Friday', 'Saturday', 'Sunday']\n"
          ],
          "name": "stdout"
        }
      ]
    },
    {
      "cell_type": "code",
      "metadata": {
        "id": "mjVqO18VQGpR",
        "colab_type": "code",
        "colab": {
          "base_uri": "https://localhost:8080/",
          "height": 34
        },
        "outputId": "ce849f72-73a3-4b71-c1ab-4d433b460380"
      },
      "source": [
        "# [ ] after days_of_week is run above, print the days in the list at odd indexes 1,3,5\n",
        "\n",
        "print(days_of_week[1:6:2])\n"
      ],
      "execution_count": 3,
      "outputs": [
        {
          "output_type": "stream",
          "text": [
            "['Tuesday', 'Thursday', 'Saturday']\n"
          ],
          "name": "stdout"
        }
      ]
    },
    {
      "cell_type": "markdown",
      "metadata": {
        "id": "SSopnPUjQGpV",
        "colab_type": "text"
      },
      "source": [
        "## Phone letters\n",
        "![phone keys: number and letters](https://iajupyterprodblobs.blob.core.windows.net/imagecontainer/phone_letters.JPG)\n",
        "Create a list, **`phone_letters`**, where the index 0 - 9 contains the letters for keys 0 - 9.  \n",
        "\n",
        "- 0 = ' ' (a space)\n",
        "- 1 = '' (empty)\n",
        "- 2 = 'ABC'\n",
        "- 3 = 'DEF'\n",
        "- etc...\n"
      ]
    },
    {
      "cell_type": "code",
      "metadata": {
        "id": "9ou2lWjnQGpW",
        "colab_type": "code",
        "colab": {
          "base_uri": "https://localhost:8080/",
          "height": 34
        },
        "outputId": "e52cbbf3-7390-49e4-97e0-29602479e676"
      },
      "source": [
        "# [ ] create and populate list called phone_letters then print it\n",
        "\n",
        "phone_letters = [' ', \"\", \"ABC\", \"DEF\", \"GHI\", \"JKL\", \"MNO\", \"PQRS\", \"TUV\", \"WXYZ\"]\n",
        "\n",
        "print(phone_letters)"
      ],
      "execution_count": 4,
      "outputs": [
        {
          "output_type": "stream",
          "text": [
            "[' ', '', 'ABC', 'DEF', 'GHI', 'JKL', 'MNO', 'PQRS', 'TUV', 'WXYZ']\n"
          ],
          "name": "stdout"
        }
      ]
    },
    {
      "cell_type": "markdown",
      "metadata": {
        "collapsed": true,
        "id": "oI6GndvtQGpa",
        "colab_type": "text"
      },
      "source": [
        "## Access Lists\n",
        "### for the 2 cells below\n",
        "- Use days_of_week list created above\n",
        "- Run the cell above to make the list available"
      ]
    },
    {
      "cell_type": "code",
      "metadata": {
        "id": "nXpXkoRDQGpb",
        "colab_type": "code",
        "colab": {
          "base_uri": "https://localhost:8080/",
          "height": 34
        },
        "outputId": "1b6e80eb-034f-4bb9-b40b-c689eb6bc0e6"
      },
      "source": [
        "# [ ] create a variable: day, assign day to \"Tuesday\" using days_of_week[]\n",
        "# [ ] print day variable\n",
        "\n",
        "day = days_of_week[1]\n",
        "\n",
        "print(day)\n",
        "\n"
      ],
      "execution_count": 7,
      "outputs": [
        {
          "output_type": "stream",
          "text": [
            "Tuesday\n"
          ],
          "name": "stdout"
        }
      ]
    },
    {
      "cell_type": "code",
      "metadata": {
        "id": "F7JyfJ-vQGpg",
        "colab_type": "code",
        "colab": {
          "base_uri": "https://localhost:8080/",
          "height": 34
        },
        "outputId": "13b7b932-2dac-4ec4-e873-8a507ee5126f"
      },
      "source": [
        "# PART 2\n",
        "# [ ] assign day to days_of_week index = 5\n",
        "# [ ] print day\n",
        "\n",
        "day = days_of_week[5]\n",
        "\n",
        "print(day)\n"
      ],
      "execution_count": 8,
      "outputs": [
        {
          "output_type": "stream",
          "text": [
            "Saturday\n"
          ],
          "name": "stdout"
        }
      ]
    },
    {
      "cell_type": "markdown",
      "metadata": {
        "id": "v9Ay6mtyQGpl",
        "colab_type": "text"
      },
      "source": [
        "## Append and Insert items into a list\n",
        "\n",
        "### Endsday, Midsday, Resterday\n",
        "#### for the exercises below\n",
        "- Use days_of_week list created above\n",
        "- Run the cell defining days_of_week above to make the list available"
      ]
    },
    {
      "cell_type": "code",
      "metadata": {
        "id": "xAztUkzPQGpn",
        "colab_type": "code",
        "colab": {
          "base_uri": "https://localhost:8080/",
          "height": 34
        },
        "outputId": "642bcf08-9062-4b13-bbc3-6d4115997838"
      },
      "source": [
        "# [ ] Make up a new day! - append an 8th day of the week to days_of_week \n",
        "# [ ] print days_of_week\n",
        "\n",
        "days_of_week.append(\"Uzoday\")\n",
        "\n",
        "print(days_of_week)\n"
      ],
      "execution_count": 9,
      "outputs": [
        {
          "output_type": "stream",
          "text": [
            "['Monday', 'Tuesday', 'Wednesday', 'Thursday', 'Friday', 'Saturday', 'Sunday', 'Uzoday']\n"
          ],
          "name": "stdout"
        }
      ]
    },
    {
      "cell_type": "markdown",
      "metadata": {
        "id": "r8BrJ6nMQGpt",
        "colab_type": "text"
      },
      "source": [
        "### Question  \n",
        "- What happens if you keep running the cell above?  \n",
        "- How can you return to the initial state with the regular 7 days in days_of_week? "
      ]
    },
    {
      "cell_type": "code",
      "metadata": {
        "id": "X3jvvglEQGpu",
        "colab_type": "code",
        "colab": {
          "base_uri": "https://localhost:8080/",
          "height": 34
        },
        "outputId": "f3355837-3f1f-44f0-9182-3ddc257a0f86"
      },
      "source": [
        "# [ ] Make up another new day - insert a new day into the middle of days_of_week between Wed - Thurs\n",
        "# [ ] print days_of_week\n",
        "\n",
        "days_of_week.insert(3, \"Momday\")\n",
        "\n",
        "print(days_of_week)\n"
      ],
      "execution_count": 13,
      "outputs": [
        {
          "output_type": "stream",
          "text": [
            "['Monday', 'Tuesday', 'Wednesday', 'Momday', 'Thursday', 'Friday', 'Saturday', 'Sunday', 'Uzoday']\n"
          ],
          "name": "stdout"
        }
      ]
    },
    {
      "cell_type": "code",
      "metadata": {
        "id": "MG2Hf_A7QGp0",
        "colab_type": "code",
        "colab": {
          "base_uri": "https://localhost:8080/",
          "height": 34
        },
        "outputId": "bc699217-1ed4-429a-fff3-298f4f477df0"
      },
      "source": [
        "# [ ]  Extend the weekend - insert a day between Fri & Sat in the days_of_week list\n",
        "# [ ] print days_of_week\n",
        "\n",
        "days_of_week.insert(7, \"Saturday\")\n",
        "\n",
        "\n",
        "\n",
        "print(days_of_week)\n"
      ],
      "execution_count": 19,
      "outputs": [
        {
          "output_type": "stream",
          "text": [
            "['Monday', 'Tuesday', 'Wednesday', 'Momday', 'Thursday', 'Friday', 'Dadday', 'Saturday', 'Sunday', 'Uzoday']\n"
          ],
          "name": "stdout"
        }
      ]
    },
    {
      "cell_type": "markdown",
      "metadata": {
        "id": "6wI1McgZQGp5",
        "colab_type": "text"
      },
      "source": [
        "## Delete from a list\n",
        "### `del` & `.pop()` some bad ideas\n",
        "#### exercises below assume days_of_week appended/inserted 3 extra days in previous exercises"
      ]
    },
    {
      "cell_type": "code",
      "metadata": {
        "id": "2YKUYbXNQGp6",
        "colab_type": "code",
        "colab": {}
      },
      "source": [
        "# [ ] print days_of_week \n",
        "# [ ] modified week is too long - pop() the last index of days_of_week & print .pop() value\n",
        "# [ ] print days_of_week\n",
        "\n",
        "\n"
      ],
      "execution_count": 0,
      "outputs": []
    },
    {
      "cell_type": "code",
      "metadata": {
        "id": "ERVI6-VlQGqC",
        "colab_type": "code",
        "colab": {}
      },
      "source": [
        "# [ ] print days_of_week \n",
        "# [ ] delete (del) the new day added to the middle of the week \n",
        "# [ ] print days_of_week\n",
        "\n",
        "\n"
      ],
      "execution_count": 0,
      "outputs": []
    },
    {
      "cell_type": "code",
      "metadata": {
        "id": "RyKT-vReQGqH",
        "colab_type": "code",
        "colab": {}
      },
      "source": [
        "# [ ] print days_of_week \n",
        "# [ ] programmers choice - pop() any day in days_of week & print .pop() value\n",
        "# [ ] print days_of_week\n",
        "\n"
      ],
      "execution_count": 0,
      "outputs": []
    },
    {
      "cell_type": "markdown",
      "metadata": {
        "id": "01yoc6saQGqM",
        "colab_type": "text"
      },
      "source": [
        "## Program:  Letter to Number Function\n",
        "# TODO: insert video\n",
        "### for the exercise below\n",
        "- Use phone_letters list created above\n",
        "- Run the cell above to make the list available \n",
        "\n",
        "#### recall unit 1 using **`in`** to search for a string in a string\n",
        "```python\n",
        "if \"e\" in \"open\":\n",
        "    print(\"e found\")\n",
        "else:\n",
        "   print(\"e not found\")\n",
        "```\n",
        "\n",
        "![phone keys: number and letters](https://iajupyterprodblobs.blob.core.windows.net/imagecontainer/phone_letters.JPG)\n",
        "\n",
        "### create funtion let_to_num()\n",
        "- let_to_num() takes input of a single letter, space or empty string stored in an argument variable: letter\n",
        "  - use `while key < 10:` to try numbers 0 - 9 as index for `phone_letters` (\"key\" = phone dial pad key)\n",
        "  - check if `letter` variable is in the index of `phone_letters[key]` \n",
        "```python\n",
        "key = 0\n",
        "while key < 10:\n",
        "    if # Create Code: determine if letter is **`in`** any of the phone_letters[key] where key is the index 0 -9:\n",
        "        return key\n",
        "    else:\n",
        "        key = key + 1\n",
        "return \"Not Found\"\n",
        "```\n",
        "- return the number or \"Not Found\"\n",
        "- **call** let_to_num() to test the function so it prints the argument and return value with:\n",
        "  - space\n",
        "  - lowercase letter\n",
        "  - different letter, uppercase\n",
        "  - a number\n",
        "  \n",
        "**Bonus**: create a special case to check if empty string (`\"\"`) was submitted   \n",
        "the problem is that an empty string will be found in all strings as  \n",
        "```python\n",
        "if \"\" in \"ABC\": \n",
        "```  \n",
        "is True, and is true for any phone_letters, but should `return 1`"
      ]
    },
    {
      "cell_type": "code",
      "metadata": {
        "id": "PTvBJnyfQGqM",
        "colab_type": "code",
        "colab": {
          "base_uri": "https://localhost:8080/",
          "height": 50
        },
        "outputId": "caf01fe0-b547-465e-e939-1790dfe83c3f"
      },
      "source": [
        "# [ ] create let_to_num()\n",
        "\n",
        "\n",
        "\n",
        "def let_to_num(letter = \"\"):\n",
        "  \n",
        "  key = 4\n",
        "  \n",
        "  \n",
        "  while key < 10:\n",
        "    for ltr in letter:\n",
        "\n",
        "      if ltr in phone_letters[key]:\n",
        "        return key\n",
        "      else:\n",
        "        key = key + 1\n",
        "    return \"Not Found\"\n",
        "  \n",
        "user_input = input(\"please enter a number, space or single character: \")\n",
        "  \n",
        "let_to_num(user_input)"
      ],
      "execution_count": 70,
      "outputs": [
        {
          "output_type": "stream",
          "text": [
            "please enter a number, space or single character: G\n"
          ],
          "name": "stdout"
        },
        {
          "output_type": "execute_result",
          "data": {
            "text/plain": [
              "4"
            ]
          },
          "metadata": {
            "tags": []
          },
          "execution_count": 70
        }
      ]
    },
    {
      "cell_type": "markdown",
      "metadata": {
        "id": "60AT1fGlQGqQ",
        "colab_type": "text"
      },
      "source": [
        "## Challenge: reverse a string \n",
        "### using \n",
        "- while\n",
        "- .pop()\n",
        "- insert()  \n",
        "\n",
        "**`pop()`** the **first item** in the list and "
      ]
    },
    {
      "cell_type": "code",
      "metadata": {
        "id": "iM62fYlGQGqR",
        "colab_type": "code",
        "colab": {}
      },
      "source": [
        "# [ ] Challenge: write the code for \"reverse a string\"\n",
        "\n",
        "    \n",
        " "
      ],
      "execution_count": 0,
      "outputs": []
    },
    {
      "cell_type": "code",
      "metadata": {
        "id": "bsK2dvRVQGqV",
        "colab_type": "code",
        "colab": {}
      },
      "source": [
        ""
      ],
      "execution_count": 0,
      "outputs": []
    },
    {
      "cell_type": "markdown",
      "metadata": {
        "collapsed": false,
        "id": "WIP2J0wQQGqZ",
        "colab_type": "text"
      },
      "source": [
        "[Terms of use](http://go.microsoft.com/fwlink/?LinkID=206977) &nbsp; [Privacy & cookies](https://go.microsoft.com/fwlink/?LinkId=521839) &nbsp; © 2017 Microsoft"
      ]
    }
  ]
}