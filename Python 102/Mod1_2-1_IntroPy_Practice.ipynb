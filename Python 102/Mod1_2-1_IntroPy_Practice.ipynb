{
  "nbformat": 4,
  "nbformat_minor": 0,
  "metadata": {
    "colab": {
      "name": "Mod1_2-1_IntroPy_Practice.ipynb",
      "version": "0.3.2",
      "provenance": [],
      "include_colab_link": true
    },
    "language_info": {
      "codemirror_mode": {
        "name": "ipython",
        "version": 3
      },
      "file_extension": ".py",
      "mimetype": "text/x-python",
      "name": "python",
      "nbconvert_exporter": "python",
      "pygments_lexer": "ipython3",
      "version": "3.5.4"
    },
    "kernelspec": {
      "display_name": "Python 3",
      "language": "python",
      "name": "python3"
    }
  },
  "cells": [
    {
      "cell_type": "markdown",
      "metadata": {
        "id": "view-in-github",
        "colab_type": "text"
      },
      "source": [
        "<a href=\"https://colab.research.google.com/github/thecodinguru/Microsoft-EDX-Python/blob/master/Python%20102/Mod1_2-1_IntroPy_Practice.ipynb\" target=\"_parent\"><img src=\"https://colab.research.google.com/assets/colab-badge.svg\" alt=\"Open In Colab\"/></a>"
      ]
    },
    {
      "cell_type": "markdown",
      "metadata": {
        "id": "ExILflMbmycY",
        "colab_type": "text"
      },
      "source": [
        "# 2-1 Intro Python Practice\n",
        "## Sequence: String\n",
        "\n",
        "<font size=\"5\" color=\"#00A0B2\"  face=\"verdana\"> <B>Student will be able to</B></font>  \n",
        "- Work with String Characters\n",
        "- Slice strings into substrings\n",
        "- Iterate through String Characters\n",
        "- Use String ~~Tricks~~ Methods"
      ]
    },
    {
      "cell_type": "markdown",
      "metadata": {
        "id": "UzmEVkoLmydH",
        "colab_type": "text"
      },
      "source": [
        "# &nbsp;\n",
        "<font size=\"6\" color=\"#B24C00\"  face=\"verdana\"> <B>Task 1</B></font>\n",
        "##  Access String Characters \n",
        "### `working_string[index]`\n"
      ]
    },
    {
      "cell_type": "code",
      "metadata": {
        "id": "-V5my0CqmydJ",
        "colab_type": "code",
        "colab": {}
      },
      "source": [
        "# [ ] access and print the second character from planet_name: \"u\"\n",
        "planet_name = \"Jupiter\"\n",
        "\n"
      ],
      "execution_count": 0,
      "outputs": []
    },
    {
      "cell_type": "code",
      "metadata": {
        "id": "SJIIrr-PmydO",
        "colab_type": "code",
        "colab": {}
      },
      "source": [
        "# [ ] access and print the first character from planet_name: \"J\"\n",
        "planet_name = \"Jupiter\"\n",
        "\n"
      ],
      "execution_count": 0,
      "outputs": []
    },
    {
      "cell_type": "code",
      "metadata": {
        "id": "-xBkz9-QmydV",
        "colab_type": "code",
        "colab": {}
      },
      "source": [
        "# [ ] access and print the first and last characters from planet_name\n",
        "planet_name = \"Jupiter\"\n",
        "\n"
      ],
      "execution_count": 0,
      "outputs": []
    },
    {
      "cell_type": "code",
      "metadata": {
        "id": "AIneOEPNmydZ",
        "colab_type": "code",
        "colab": {}
      },
      "source": [
        "# [ ] using a negative index access and print the first character from planet_name: \"J\"\n",
        "planet_name = \"Jupiter\"\n",
        "\n"
      ],
      "execution_count": 0,
      "outputs": []
    },
    {
      "cell_type": "markdown",
      "metadata": {
        "id": "RQM4E4N9mydd",
        "colab_type": "text"
      },
      "source": [
        "# &nbsp;\n",
        "<font size=\"6\" color=\"#B24C00\"  face=\"verdana\"> <B>Task 2</B></font>\n",
        "## slice\n",
        "### `working_string[start:stop]`\n",
        "### `working_string[start:stop:step]`"
      ]
    },
    {
      "cell_type": "code",
      "metadata": {
        "id": "co64AzYwmydd",
        "colab_type": "code",
        "colab": {}
      },
      "source": [
        "# [ ] print planet_name sliced into the first 3 characters and remaining characters\n",
        "planet_name = \"Neptune\"\n",
        "\n"
      ],
      "execution_count": 0,
      "outputs": []
    },
    {
      "cell_type": "code",
      "metadata": {
        "id": "x_trMCQ3mydk",
        "colab_type": "code",
        "colab": {}
      },
      "source": [
        "# [ ] print 1st char and then every 3rd char of wise_words\n",
        "# use string slice with a step\n",
        "wise_words = 'Play it who opens'\n",
        "\n"
      ],
      "execution_count": 0,
      "outputs": []
    },
    {
      "cell_type": "code",
      "metadata": {
        "id": "XlYDnEk1mydp",
        "colab_type": "code",
        "colab": {}
      },
      "source": [
        "# [ ] print planet_name in reverse\n",
        "\n"
      ],
      "execution_count": 0,
      "outputs": []
    },
    {
      "cell_type": "markdown",
      "metadata": {
        "collapsed": true,
        "id": "zfnU5cXjmyds",
        "colab_type": "text"
      },
      "source": [
        "# &nbsp;\n",
        "<font size=\"6\" color=\"#B24C00\"  face=\"verdana\"> <B>Task 3</B></font>\n",
        "\n",
        "## iterate a String\n",
        "### `for letter in sentence:`"
      ]
    },
    {
      "cell_type": "code",
      "metadata": {
        "id": "JPDlPSwxmydu",
        "colab_type": "code",
        "colab": {}
      },
      "source": [
        "# [ ] Get user input for 1 fav_food\n",
        "# [ ] iterate through letters in fav_food \n",
        "#    - print each letter on a new line\n",
        "\n",
        "\n",
        "\n"
      ],
      "execution_count": 0,
      "outputs": []
    },
    {
      "cell_type": "code",
      "metadata": {
        "id": "QCty7G2lmyd0",
        "colab_type": "code",
        "colab": {}
      },
      "source": [
        "# [ ] iterate work_tip string concatenate each letter to variable: new_string \n",
        "# [ ] concatenate the letter or a \"-\" instead of a space \" \"\n",
        "# tip: concatenate string example: word = word + \"a\"\n",
        "work_tip = \"Good code is commented code\"\n",
        "\n",
        "\n"
      ],
      "execution_count": 0,
      "outputs": []
    },
    {
      "cell_type": "code",
      "metadata": {
        "id": "Dfsx1vysmyd4",
        "colab_type": "code",
        "colab": {
          "base_uri": "https://localhost:8080/",
          "height": 151
        },
        "outputId": "57054b5c-ac09-45b3-f3cf-290b38eb6e46"
      },
      "source": [
        "# [ ] Print the first 4 letters of name on new line\n",
        "name = \"Hiroto\"\n",
        "\n",
        "for ltr in name[0:4]:\n",
        "  print(\"\\n\" + ltr)"
      ],
      "execution_count": 7,
      "outputs": [
        {
          "output_type": "stream",
          "text": [
            "\n",
            "H\n",
            "\n",
            "i\n",
            "\n",
            "r\n",
            "\n",
            "o\n"
          ],
          "name": "stdout"
        }
      ]
    },
    {
      "cell_type": "code",
      "metadata": {
        "id": "WkOTqX9PmyeD",
        "colab_type": "code",
        "colab": {}
      },
      "source": [
        "# [ ] Print every other letter from 2nd to last letter of name \n",
        "name = \"Hiroto\"\n",
        "\n"
      ],
      "execution_count": 0,
      "outputs": []
    },
    {
      "cell_type": "markdown",
      "metadata": {
        "id": "OJevRgu7myeV",
        "colab_type": "text"
      },
      "source": [
        "# &nbsp;\n",
        "<font size=\"6\" color=\"#B24C00\"  face=\"verdana\"> <B>Task 4</B></font>\n",
        "\n",
        "## Program: Mystery Name\n",
        "- get user input for first_name\n",
        "- create an empty string variable: new_name\n",
        "- iterate through letters in first_name Backwards \n",
        "  - add each letter to new_name as you iterate\n",
        "  - Replace the letter if \"e\", \"t\" or \"a\" with \"?\" *(hint: if, elif, elif, else)*\n",
        "- print new_name  \n",
        "\n",
        "**example: \"Alton\" = \"no?l?\"**"
      ]
    },
    {
      "cell_type": "code",
      "metadata": {
        "id": "sUBB9nqamyeW",
        "colab_type": "code",
        "outputId": "9f300550-cf20-41a7-f0f1-05bdbe66da09",
        "colab": {
          "base_uri": "https://localhost:8080/",
          "height": 50
        }
      },
      "source": [
        "# [ ] Create Mystery Name\n",
        "\n",
        "first_name = input(\"Enter a random first name: \")\n",
        "new_name = \"\"\n",
        "\n",
        "for x in first_name[::-1]:\n",
        "  if x.lower() == \"e\":\n",
        "    new_name += \"?\"\n",
        "  elif x.lower() == \"t\":\n",
        "    new_name += \"?\"\n",
        "  elif x.lower() == \"a\":\n",
        "    new_name += \"?\"\n",
        "  else: \n",
        "    new_name += x\n",
        "\n",
        "print(new_name)\n",
        "\n"
      ],
      "execution_count": 0,
      "outputs": [
        {
          "output_type": "stream",
          "text": [
            "Enter a random first name: Marey\n",
            "y?r?M\n"
          ],
          "name": "stdout"
        }
      ]
    },
    {
      "cell_type": "markdown",
      "metadata": {
        "id": "cBDmePLOmyeb",
        "colab_type": "text"
      },
      "source": [
        "# &nbsp;\n",
        "<font size=\"6\" color=\"#B24C00\"  face=\"verdana\"> <B>Task 4</B></font>\n",
        "## `len(), .find(), .count()`   \n",
        "\n",
        "```  \n",
        "- len(working_string)\n",
        "- .find(\"i\")\n",
        "- .find(\"i\",start)\n",
        "- .find(\"i\", start, end)\n",
        "- .count(\"i\")\n",
        "- .count(\"i\", start)\n",
        "- .count(\"i\", start, end)\n",
        "```   "
      ]
    },
    {
      "cell_type": "code",
      "metadata": {
        "id": "wGLuAQQwmyec",
        "colab_type": "code",
        "colab": {
          "base_uri": "https://localhost:8080/",
          "height": 34
        },
        "outputId": "2d26915d-bb75-48ed-9a35-8044ef0c2a3e"
      },
      "source": [
        "# [ ] find and display the length of the string: topic\n",
        "topic = \"len() returns the length of a string\"\n",
        "\n",
        "len(topic)"
      ],
      "execution_count": 5,
      "outputs": [
        {
          "output_type": "execute_result",
          "data": {
            "text/plain": [
              "36"
            ]
          },
          "metadata": {
            "tags": []
          },
          "execution_count": 5
        }
      ]
    },
    {
      "cell_type": "code",
      "metadata": {
        "id": "8OBr9LPVmyel",
        "colab_type": "code",
        "colab": {}
      },
      "source": [
        "# [ ] use len() to find and display the mid_pt (middle) index (+/- 1) of the string: topic\n",
        "# note: index values are whole numbers\n",
        "topic = \"len() can take a sequence, like a string, as an argument\"\n",
        "\n"
      ],
      "execution_count": 0,
      "outputs": []
    },
    {
      "cell_type": "code",
      "metadata": {
        "id": "5ZrZGJhsmyeq",
        "colab_type": "code",
        "colab": {}
      },
      "source": [
        "# [ ] print index where first instance of the word  \"code\" starts using .find()\n",
        "work_tip = \"Good code is commented code\"\n",
        "\n"
      ],
      "execution_count": 0,
      "outputs": []
    },
    {
      "cell_type": "code",
      "metadata": {
        "id": "ay9Yqof6myeu",
        "colab_type": "code",
        "colab": {}
      },
      "source": [
        "# [ ] search for \"code\" in code_tip using .find() \n",
        "# [ ] search substring with substring index start= 13,end = last char \n",
        "# [ ] save result in variable: code_index\n",
        "# [ ] display index of where \"code\" is found, or print \"not found\" if code_index == -1\n",
        "work_tip = \"Good code is commented code\"\n",
        "\n"
      ],
      "execution_count": 0,
      "outputs": []
    },
    {
      "cell_type": "markdown",
      "metadata": {
        "collapsed": true,
        "id": "zn0pPzGpmye7",
        "colab_type": "text"
      },
      "source": [
        "# &nbsp;\n",
        "<font size=\"6\" color=\"#B24C00\"  face=\"verdana\"> <B>Task 5</B></font>"
      ]
    },
    {
      "cell_type": "code",
      "metadata": {
        "id": "dYGh80Ggmye8",
        "colab_type": "code",
        "colab": {
          "base_uri": "https://localhost:8080/",
          "height": 50
        },
        "outputId": "4aa9055e-ed7f-4a5d-bcff-46582b3672c1"
      },
      "source": [
        "# [ ] find and report (print) number of w's, o's + use of word \"code\"\n",
        "work_tip = \"Good code is commented code\"\n",
        "\n",
        "print(work_tip.count(\"w\"))\n",
        "print(work_tip.count(\"o\"))\n"
      ],
      "execution_count": 4,
      "outputs": [
        {
          "output_type": "stream",
          "text": [
            "0\n",
            "5\n"
          ],
          "name": "stdout"
        }
      ]
    },
    {
      "cell_type": "code",
      "metadata": {
        "id": "zEcHRzTcmyfI",
        "colab_type": "code",
        "colab": {}
      },
      "source": [
        "# [ ]  count times letter \"i\" appears in code_tip string\n",
        "# [ ] find and display the index of all the letter i's in code_tip\n",
        "# Remember: if .find(\"i\") has No Match, -1 is returned\n",
        "code_tip = \"code a conditional decision like you would say it\"\n",
        "print (\"code_tip:\" , code_tip)\n",
        "\n"
      ],
      "execution_count": 0,
      "outputs": []
    },
    {
      "cell_type": "markdown",
      "metadata": {
        "id": "luGktUDUmyfP",
        "colab_type": "text"
      },
      "source": [
        "# &nbsp;\n",
        "<font size=\"6\" color=\"#B24C00\"  face=\"verdana\"> <B>Task 6</B></font>\n",
        "\n",
        "## Program: Words after \"G\"/\"g\"\n",
        "Create a program inputs a phrase (like a famous quotation) and prints all of the words that start with h-z\n",
        "\n",
        "Sample input:  \n",
        "`enter a 1 sentence quote, non-alpha separate words:` **`Wheresoever you go, go with all your heart`**  \n",
        "\n",
        "Sample output:\n",
        "```\n",
        "WHERESOEVER\n",
        "YOU\n",
        "WITH\n",
        "YOUR\n",
        "HEART\n",
        "```\n",
        "- split the words by building a placeholder variable: **`word`**  \n",
        "  - loop each character in the input string  \n",
        "  - check if character is a letter  \n",
        "  - add a letter to **`word`** each loop until a non-alpha char is encountered  \n",
        "\n",
        "- **if** character is alpha \n",
        "  - add character to **`word`**    \n",
        "  - non-alpha detected (space, punctuation, digit,...) defines the end of a word and goes to **`else`**    \n",
        "- **`else`**  \n",
        "  - check **`if`** word is greater than \"g\" alphabetically\n",
        "      - print word \n",
        "      - set word = empty string\n",
        "  - or **else** \n",
        "    - set word = empty string and build the next word  \n",
        "\n",
        "Hint: use `.lower()`"
      ]
    },
    {
      "cell_type": "code",
      "metadata": {
        "id": "MfhZU8SymyfR",
        "colab_type": "code",
        "colab": {
          "base_uri": "https://localhost:8080/",
          "height": 118
        },
        "outputId": "55454d19-849b-4239-a186-433364e5b432"
      },
      "source": [
        "# [] create words after \"G\"\n",
        "# sample quote \"Wheresoever you go, go with all your heart\" ~ Confucius (551 BC - 479 BC)\n",
        "\n",
        "quote = input(\"Please enter a 1 sentence quote, non-alpha seperate words: \")\n",
        "\n",
        "word = \"\"\n",
        "\n",
        "for letter in quote:\n",
        "    if letter.isalpha():\n",
        "        word += letter\n",
        "    elif word.lower() >= 'h':\n",
        "        print(word.upper())\n",
        "        word = ''\n",
        "    else:\n",
        "        word = ''\n",
        "if word.lower() >= 'h':\n",
        "    print(word.upper())\n",
        "  \n"
      ],
      "execution_count": 6,
      "outputs": [
        {
          "output_type": "stream",
          "text": [
            "Please enter a 1 sentence quote, non-alpha seperate words: Wheresoever you go, go with all your heart\n",
            "WHERESOEVER\n",
            "YOU\n",
            "WITH\n",
            "YOUR\n",
            "HEART\n"
          ],
          "name": "stdout"
        }
      ]
    },
    {
      "cell_type": "markdown",
      "metadata": {
        "collapsed": true,
        "id": "Gz7WF_J9myfW",
        "colab_type": "text"
      },
      "source": [
        "[Terms of use](http://go.microsoft.com/fwlink/?LinkID=206977) &nbsp; [Privacy & cookies](https://go.microsoft.com/fwlink/?LinkId=521839) &nbsp; © 2017 Microsoft"
      ]
    }
  ]
}