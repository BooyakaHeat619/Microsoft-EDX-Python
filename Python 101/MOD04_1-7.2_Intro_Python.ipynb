{
  "nbformat": 4,
  "nbformat_minor": 0,
  "metadata": {
    "colab": {
      "name": "MOD04_1-7.2_Intro_Python.ipynb",
      "version": "0.3.2",
      "provenance": [],
      "include_colab_link": true
    },
    "language_info": {
      "codemirror_mode": {
        "name": "ipython",
        "version": 3
      },
      "file_extension": ".py",
      "mimetype": "text/x-python",
      "name": "python",
      "nbconvert_exporter": "python",
      "pygments_lexer": "ipython3",
      "version": "3.5.1"
    },
    "kernelspec": {
      "display_name": "Python 3",
      "language": "python",
      "name": "python3"
    }
  },
  "cells": [
    {
      "cell_type": "markdown",
      "metadata": {
        "id": "view-in-github",
        "colab_type": "text"
      },
      "source": [
        "<a href=\"https://colab.research.google.com/github/thecodinguru/Microsoft-EDX-Python/blob/master/Python%20101/MOD04_1-7.2_Intro_Python.ipynb\" target=\"_parent\"><img src=\"https://colab.research.google.com/assets/colab-badge.svg\" alt=\"Open In Colab\"/></a>"
      ]
    },
    {
      "metadata": {
        "id": "ns5MYRt4nFqx",
        "colab_type": "text"
      },
      "cell_type": "markdown",
      "source": [
        "# 1-7.2 Intro Python\n",
        "## `while()` loops & increments\n",
        "- while `True`  or forever loops\n",
        "- incrementing in loops\n",
        "- **Boolean operators in while loops**\n",
        "\n",
        "\n",
        "-----  \n",
        "\n",
        "><font size=\"5\" color=\"#00A0B2\"  face=\"verdana\"> <B>Student will be able to</B></font>\n",
        "- create forever loops using `while` and `break`\n",
        "- use incrementing variables in a while loop\n",
        "- **control while loops using Boolean operators**"
      ]
    },
    {
      "metadata": {
        "collapsed": true,
        "id": "97fVu7_nnFq0",
        "colab_type": "text"
      },
      "cell_type": "markdown",
      "source": [
        "# &nbsp;\n",
        "<font size=\"6\" color=\"#00A0B2\"  face=\"verdana\"> <B>Concept</B></font>\n",
        "## `while` with Boolean comparison\n",
        "[![view video](https://iajupyterprodblobs.blob.core.windows.net/imagecontainer/common/play_video.png)]( http://edxinteractivepage.blob.core.windows.net/edxpages/f7cff1a7-5601-48a1-95a6-fd1fdfabd20e.html?details=[{\"src\":\"http://jupyternootbookwams.streaming.mediaservices.windows.net/f540955e-543b-48f0-8201-3513b0beeed9/Unit1_Section7.2-while-boolean-comp.ism/manifest\",\"type\":\"application/vnd.ms-sstr+xml\"}],[{\"src\":\"http://jupyternootbookwams.streaming.mediaservices.windows.net/f540955e-543b-48f0-8201-3513b0beeed9/Unit1_Section7.2-while-boolean-comp.vtt\",\"srclang\":\"en\",\"kind\":\"subtitles\",\"label\":\"english\"}])\n",
        "## `while` with Boolean comparison operator\n",
        "### `while x < 5:`\n",
        "with increment we used  **`break`** when count becomes greater than some number  \n",
        "\n",
        "The same result can be achieved by using **`while x < 5:`**"
      ]
    },
    {
      "metadata": {
        "id": "rjr-X_qTnFq1",
        "colab_type": "text"
      },
      "cell_type": "markdown",
      "source": [
        "# &nbsp;\n",
        "<font size=\"6\" color=\"#00A0B2\"  face=\"verdana\"> <B>Examples</B></font>\n",
        "  \n"
      ]
    },
    {
      "metadata": {
        "id": "TqTSFz4inFq2",
        "colab_type": "code",
        "colab": {
          "base_uri": "https://localhost:8080/",
          "height": 134
        },
        "outputId": "d945bafb-9d07-42b4-d80f-30b0948dab9c"
      },
      "cell_type": "code",
      "source": [
        "# review and run GREET COUNT\n",
        "greet_count = 5\n",
        "\n",
        "# loop while count is greater than 0\n",
        "while greet_count > 0:\n",
        "    print(greet_count, \"!\")\n",
        "    greet_count -= 1\n",
        "print(\"\\nIGNITION!\")"
      ],
      "execution_count": 1,
      "outputs": [
        {
          "output_type": "stream",
          "text": [
            "5 !\n",
            "4 !\n",
            "3 !\n",
            "2 !\n",
            "1 !\n",
            "\n",
            "IGNITION!\n"
          ],
          "name": "stdout"
        }
      ]
    },
    {
      "metadata": {
        "id": "JcdDO11wnFq9",
        "colab_type": "text"
      },
      "cell_type": "markdown",
      "source": [
        "# &nbsp;\n",
        "<font size=\"6\" color=\"#B24C00\"  face=\"verdana\"> <B>Task 1</B></font>\n",
        "## `while` with comparison operator \n",
        "### Program: Animal Names\n",
        "- Use **`while`** to get the user input, animal_name, of 4 animals \n",
        "  - use a counter, num_animals, in the while loop condition\n",
        "  - append the names to a string variable, all_animals\n",
        "  - User can exit early by typing \"exit\" (check if animal_name is \"exit\" and break)\n",
        "- when the loop finishes, print the names of all_animals\n",
        "\n",
        "-bonus: print \"no animals\" if animal_name is empty after exiting the loop\n",
        "\n",
        "**Tip:** Think about Sequence and variables that need to be initialized before the while loop"
      ]
    },
    {
      "metadata": {
        "id": "zWWdZ0w4nFq-",
        "colab_type": "code",
        "colab": {
          "base_uri": "https://localhost:8080/",
          "height": 50
        },
        "outputId": "c0185ceb-6ce6-49a1-8427-e126930f99ad"
      },
      "cell_type": "code",
      "source": [
        "# [ ] Create the Animal Names program, run tests\n",
        "\n",
        "num_animals = 4\n",
        "all_animals = []\n",
        "\n",
        "while num_animals > 0:\n",
        "  animal_name = input(\"Please enter your favorite animals: \")\n",
        "  \n",
        "  if animal_name.lower().startswith(\"ex\"):\n",
        "    all_animals.append(animal_name)\n",
        "    num_animals -= 1\n",
        "    del all_animals[-1]\n",
        "    print(\"\\nYour list of animals is shorter than expected but acceptable nonetheless! Thank You!\", \"\\nHere is your Animal List: \", all_animals)\n",
        "    break\n",
        "  elif all_animals == [] and animal_name == \"\":\n",
        "    print(\"You do not have a favorite animal! Bye!\")\n",
        "    break\n",
        "  elif all_animals != [] and animal_name == \"\":\n",
        "    all_animals.append(animal_name)\n",
        "    del all_animals[-1]\n",
        "    print(\"\\nYour list of animals is shorter than expected but acceptable nonetheless! Thank You!\", \"\\nHere is your Animal List: \", all_animals)\n",
        "    break\n",
        "  else:\n",
        "    all_animals.append(animal_name)\n",
        "    num_animals -= 1\n",
        "    if num_animals == 0:\n",
        "      print(\"\\nThank You for providing your favorite animals!\", \"\\nHere is your Animal List: \", all_animals)\n",
        "    \n",
        "\n",
        "\n"
      ],
      "execution_count": 8,
      "outputs": [
        {
          "output_type": "stream",
          "text": [
            "Please enter your favorite animals: \n",
            "You do not have a favorite animal! Bye!\n"
          ],
          "name": "stdout"
        }
      ]
    },
    {
      "metadata": {
        "collapsed": true,
        "id": "PVAWtowQnFrG",
        "colab_type": "text"
      },
      "cell_type": "markdown",
      "source": [
        "# &nbsp;\n",
        "<font size=\"6\" color=\"#00A0B2\"  face=\"verdana\"> <B>Concept</B></font>\n",
        "## `while` Boolean string tests\n",
        "[![view video](https://iajupyterprodblobs.blob.core.windows.net/imagecontainer/common/play_video.png)]( http://edxinteractivepage.blob.core.windows.net/edxpages/f7cff1a7-5601-48a1-95a6-fd1fdfabd20e.html?details=[{\"src\":\"http://jupyternootbookwams.streaming.mediaservices.windows.net/26728191-873d-42ba-b6b5-48b396a8f42f/Unit1_Section7.2-while-boolean-string.ism/manifest\",\"type\":\"application/vnd.ms-sstr+xml\"}],[{\"src\":\"http://jupyternootbookwams.streaming.mediaservices.windows.net/26728191-873d-42ba-b6b5-48b396a8f42f/Unit1_Section7.2-while-boolean-string.vtt\",\"srclang\":\"en\",\"kind\":\"subtitles\",\"label\":\"english\"}])\n",
        "## Using `while` with a Boolean String Tests\n",
        "A while loop can be controlled by Boolean strings such as `while name.isalpha() == False:`"
      ]
    },
    {
      "metadata": {
        "id": "3J2Q_RUJnFrJ",
        "colab_type": "text"
      },
      "cell_type": "markdown",
      "source": [
        "# &nbsp;\n",
        "<font size=\"6\" color=\"#00A0B2\"  face=\"verdana\"> <B>Example</B></font>"
      ]
    },
    {
      "metadata": {
        "id": "xhojwyohnFrL",
        "colab_type": "code",
        "colab": {}
      },
      "cell_type": "code",
      "source": [
        "# review and run example that loops until a valid first name format is entered\n",
        "student_fname = \"\"\n",
        "while student_fname.isalpha() == False:\n",
        "    student_fname = input(\"enter student\\'s first (Letters only, No spaces): \")\n",
        "print(\"\\n\" + student_fname.title(),\"has been entered as first name\")"
      ],
      "execution_count": 0,
      "outputs": []
    },
    {
      "metadata": {
        "id": "_PKnBs8-nFrT",
        "colab_type": "text"
      },
      "cell_type": "markdown",
      "source": [
        "# &nbsp;\n",
        "<font size=\"6\" color=\"#B24C00\"  face=\"verdana\"> <B>Task 2</B></font>\n",
        "## Using `while` with a Boolean String\n",
        "### Program: Long Number\n",
        "#### Create variables\n",
        "- **`int_num`** and get user input **string** of only digits  \n",
        "- **`long_num`** and initialize it as an empty string  \n",
        "\n",
        "#### Create a while loop that runs as long as the input is all digits  \n",
        "\n",
        "#### Inside the while loop   \n",
        "- add **`int_num`** to the end of **`long_num`**\n",
        "- get user input for **`int_num`** again (*inside while loop this time*)  \n",
        "\n",
        "#### After the loop exits \n",
        "- print the value of **`long_num`**   "
      ]
    },
    {
      "metadata": {
        "id": "otVtgi6fnFrU",
        "colab_type": "code",
        "colab": {
          "base_uri": "https://localhost:8080/",
          "height": 67
        },
        "outputId": "34aae3f5-704e-433a-fba8-8929a01d5094"
      },
      "cell_type": "code",
      "source": [
        "# [ ] Create the program, run tests\n",
        "long_num = \"\"\n",
        "int_num = input(\"Please input a number: \")\n",
        "\n",
        "while int_num.isdigit() == True:\n",
        "  int_num = input(\"Please enter your favorite number or enter any letter to escape: \")\n",
        "  long_num += int_num\n",
        "  \n",
        "  print(long_num)\n"
      ],
      "execution_count": 31,
      "outputs": [
        {
          "output_type": "stream",
          "text": [
            "Please input a number: 3\n",
            "Please enter your favorite number or enter any letter to escape: \n",
            "\n"
          ],
          "name": "stdout"
        }
      ]
    },
    {
      "metadata": {
        "id": "F4tcApvFnFrX",
        "colab_type": "text"
      },
      "cell_type": "markdown",
      "source": [
        "# &nbsp;\n",
        "<font size=\"6\" color=\"#B24C00\"  face=\"verdana\"> <B>Task 3</B></font>\n",
        "## Fix the Errors\n",
        "This loop never runs\n",
        "### This is a logic error - there is no ErrorMessage, but the code *doesn't work*"
      ]
    },
    {
      "metadata": {
        "id": "AVdJAhkunFrZ",
        "colab_type": "code",
        "colab": {}
      },
      "cell_type": "code",
      "source": [
        "# [ ] review the code, run, fix the Logic error\n",
        "count = 1\n",
        "\n",
        "# loop 5 times\n",
        "while count > 6:\n",
        "    print(count, \"x\", count, \"=\", count*count)\n",
        "    count +=1\n",
        "    \n"
      ],
      "execution_count": 0,
      "outputs": []
    },
    {
      "metadata": {
        "id": "EtPyyAQ8nFrd",
        "colab_type": "text"
      },
      "cell_type": "markdown",
      "source": [
        "[Terms of use](http://go.microsoft.com/fwlink/?LinkID=206977) &nbsp; [Privacy & cookies](https://go.microsoft.com/fwlink/?LinkId=521839) &nbsp; © 2017 Microsoft"
      ]
    }
  ]
}