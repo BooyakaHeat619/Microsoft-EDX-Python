{
  "nbformat": 4,
  "nbformat_minor": 0,
  "metadata": {
    "colab": {
      "name": "Required_Code_MOD2_IntroPy.ipynb",
      "version": "0.3.2",
      "provenance": [],
      "include_colab_link": true
    },
    "language_info": {
      "mimetype": "text/x-python",
      "nbconvert_exporter": "python",
      "name": "python",
      "pygments_lexer": "ipython3",
      "version": "3.5.4",
      "file_extension": ".py",
      "codemirror_mode": {
        "version": 3,
        "name": "ipython"
      }
    },
    "kernelspec": {
      "name": "python3",
      "display_name": "Python 3",
      "language": "python"
    }
  },
  "cells": [
    {
      "cell_type": "markdown",
      "metadata": {
        "id": "view-in-github",
        "colab_type": "text"
      },
      "source": [
        "<a href=\"https://colab.research.google.com/github/thecodinguru/Microsoft-EDX-Python/blob/master/Python%20101/Required_Code_MOD2_IntroPy.ipynb\" target=\"_parent\"><img src=\"https://colab.research.google.com/assets/colab-badge.svg\" alt=\"Open In Colab\"/></a>"
      ]
    },
    {
      "metadata": {
        "collapsed": true,
        "id": "1HAPmgGd5BLI",
        "colab_type": "text"
      },
      "cell_type": "markdown",
      "source": [
        "#  Module 2 Required Coding Activity  \n",
        "Introduction to Python Unit 1  \n",
        "\n",
        "This is an activity based on code similar to the Jupyter Notebook **`Practice_MOD02_1-3_IntroPy.ipynb`** which you may have completed.\n",
        "\n",
        "| Some Assignment Requirements |  \n",
        "|:-------------------------------|  \n",
        "| **NOTE:** This program requires a **function** be defined, created and called. The call will send values based on user input.  The function call must capture a `return` value that is used in print output.  The function will have parameters and `return` a string and should otherwise use code syntax covered in module 2.  |  \n",
        " \n",
        "## Program: fishstore()\n",
        "create and test fishstore()\n",
        "- **fishstore() takes 2 string arguments: fish & price**\n",
        "- **fishstore returns a string in sentence form**  \n",
        "- **gather input for fish_entry and price_entry to use in calling fishstore()**\n",
        "- **print the return value of fishstore()**\n",
        ">example of output: **`Fish Type: Guppy costs $1`**"
      ]
    },
    {
      "metadata": {
        "trusted": false,
        "id": "afwTlHEv5BLK",
        "colab_type": "code",
        "colab": {
          "base_uri": "https://localhost:8080/",
          "height": 84
        },
        "outputId": "8960d3fe-3282-47df-ac8c-e31f978bbd54"
      },
      "cell_type": "code",
      "source": [
        "# [ ] create, call and test fishstore() function \n",
        "# then PASTE THIS CODE into edX\n",
        "\n",
        "def fishstore(fish = \"\", price = \"\"):\n",
        "  if fish.isalpha() and price.isdigit():\n",
        "    return str(price)\n",
        "  \n",
        "fish_entry = input(\"Please enter the kind of fish you want: \")\n",
        "price_entry = input(\"At what price did you want your fish: \")\n",
        "\n",
        "a = fishstore(fish_entry, price_entry)\n",
        "print(\"\\nFish Type:\", fish_entry, \"costs $\" + a)"
      ],
      "execution_count": 46,
      "outputs": [
        {
          "output_type": "stream",
          "text": [
            "Please enter the kind of fish you want: Guppy\n",
            "At what price did you want your fish: 1\n",
            "\n",
            "Fish Type: Guppy costs $1\n"
          ],
          "name": "stdout"
        }
      ]
    },
    {
      "metadata": {
        "id": "47O1u7Kq5BLQ",
        "colab_type": "text"
      },
      "cell_type": "markdown",
      "source": [
        "### Need assignment tips and clarification? \n",
        "See the video on the \"End of Module coding assignment > Module 2 Required Code Description\" course page on [edX](https://courses.edx.org/courses/course-v1:Microsoft+DEV236x+4T2017/course)    \n",
        "\n",
        "# Important:  [How to submit the code in edX by pasting](https://courses.edx.org/courses/course-v1:Microsoft+DEV236x+1T2017/wiki/Microsoft.DEV236x.3T2018/paste-code-end-module-coding-assignments/)"
      ]
    },
    {
      "metadata": {
        "id": "6HkF80VI5BLQ",
        "colab_type": "text"
      },
      "cell_type": "markdown",
      "source": [
        "[Terms of use](http://go.microsoft.com/fwlink/?LinkID=206977) &nbsp; [Privacy & cookies](https://go.microsoft.com/fwlink/?LinkId=521839) &nbsp; © 2017 Microsoft"
      ]
    }
  ]
}