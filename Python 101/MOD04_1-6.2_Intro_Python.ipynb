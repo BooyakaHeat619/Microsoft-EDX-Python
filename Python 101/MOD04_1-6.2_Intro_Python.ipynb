{
  "nbformat": 4,
  "nbformat_minor": 0,
  "metadata": {
    "colab": {
      "name": "MOD04_1-6.2_Intro_Python.ipynb",
      "version": "0.3.2",
      "provenance": [],
      "include_colab_link": true
    },
    "language_info": {
      "codemirror_mode": {
        "name": "ipython",
        "version": 3
      },
      "file_extension": ".py",
      "mimetype": "text/x-python",
      "name": "python",
      "nbconvert_exporter": "python",
      "pygments_lexer": "ipython3",
      "version": "3.5.2"
    },
    "kernelspec": {
      "display_name": "Python 3",
      "language": "python",
      "name": "python3"
    }
  },
  "cells": [
    {
      "cell_type": "markdown",
      "metadata": {
        "id": "view-in-github",
        "colab_type": "text"
      },
      "source": [
        "<a href=\"https://colab.research.google.com/github/thecodinguru/Microsoft-EDX-Python/blob/master/Python%20101/MOD04_1-6.2_Intro_Python.ipynb\" target=\"_parent\"><img src=\"https://colab.research.google.com/assets/colab-badge.svg\" alt=\"Open In Colab\"/></a>"
      ]
    },
    {
      "metadata": {
        "id": "lO9BrIDAE0cV",
        "colab_type": "text"
      },
      "cell_type": "markdown",
      "source": [
        "# 1-6.2 Intro Python\n",
        "## Nested Conditionals\n",
        "- nested conditionals  \n",
        "- **print formatting with the (\\) escape sequence** \n",
        "\n",
        "><font size=\"5\" color=\"#00A0B2\"  face=\"verdana\"> <B>Student will be able to</B></font>\n",
        "- create nested conditional logic in code  \n",
        "- **print format print using escape sequence (\\)**"
      ]
    },
    {
      "metadata": {
        "collapsed": true,
        "id": "o5VuqTrFE0cZ",
        "colab_type": "text"
      },
      "cell_type": "markdown",
      "source": [
        "\n",
        "# &nbsp;\n",
        "<font size=\"6\" color=\"#00A0B2\"  face=\"verdana\"> <B>Concept</B></font>\n",
        "## formatting with escape sequences\n",
        "[![view video](https://iajupyterprodblobs.blob.core.windows.net/imagecontainer/common/play_video.png)]( http://edxinteractivepage.blob.core.windows.net/edxpages/f7cff1a7-5601-48a1-95a6-fd1fdfabd20e.html?details=[{\"src\":\"http://jupyternootbookwams.streaming.mediaservices.windows.net/b64e53fd-eb3b-4383-8b5f-4da51fc881c5/Unit1_Section6.2-Escape-Sequences.ism/manifest\",\"type\":\"application/vnd.ms-sstr+xml\"}],[{\"src\":\"http://jupyternootbookwams.streaming.mediaservices.windows.net/b64e53fd-eb3b-4383-8b5f-4da51fc881c5/Unit1_Section6.2-Escape-Sequences.vtt\",\"srclang\":\"en\",\"kind\":\"subtitles\",\"label\":\"english\"}])\n",
        "### Escape Sequences\n",
        "- escape sequences all start with a backslash (**`\\`**) \n",
        "- escape sequences can be used to display characters in python reserved for formatting\n",
        "  - **`\\\\`** &nbsp; Backslash (**`\\`**)  \n",
        "  - **`\\'`** &nbsp; Single quote (**'**)  \n",
        "  - **`\\\"`** &nbsp; Double quote (**\"**)  \n",
        "\n",
        "\n",
        "- escape sequences are part of special formatting charcters\\n    Linefeed \n",
        "  - **`\\t`** &nbsp; Tab\n",
        "  - **`\\n`** &nbsp; return or newline\n",
        "\n",
        "We use escape sequences in strings - usually with `print()` statements "
      ]
    },
    {
      "metadata": {
        "id": "4N_4km6WE0ca",
        "colab_type": "text"
      },
      "cell_type": "markdown",
      "source": [
        "# &nbsp;\n",
        "<font size=\"6\" color=\"#00A0B2\"  face=\"verdana\"> <B>Examples</B></font>  "
      ]
    },
    {
      "metadata": {
        "id": "mbIN6mrlE0cc",
        "colab_type": "code",
        "colab": {}
      },
      "cell_type": "code",
      "source": [
        "# review and run example using \\n (new line)\n",
        "print('Hello World!\\nI am formatting print ')"
      ],
      "execution_count": 0,
      "outputs": []
    },
    {
      "metadata": {
        "id": "A0wTHtUAE0cf",
        "colab_type": "code",
        "colab": {}
      },
      "cell_type": "code",
      "source": [
        "# review and run code using \\t (tab)\n",
        "student_age = 17\n",
        "student_name = \"Hiroto Yamaguchi\"\n",
        "print(\"STUDENT NAME\\t\\tAGE\")\n",
        "print(student_name,'\\t' + str(student_age))"
      ],
      "execution_count": 0,
      "outputs": []
    },
    {
      "metadata": {
        "id": "uWyq2sHEE0ci",
        "colab_type": "code",
        "colab": {}
      },
      "cell_type": "code",
      "source": [
        "# review and run code \n",
        "# using \\\" and \\' (escaped quotes)\n",
        "print(\"\\\"quotes in quotes\\\"\")\n",
        "print(\"I\\'ve said \\\"save your notebook,\\\" so let\\'s do it!\")\n",
        "\n",
        "# using  \\\\ (escaped backslash)\n",
        "print(\"for a newline use \\\\n\")"
      ],
      "execution_count": 0,
      "outputs": []
    },
    {
      "metadata": {
        "id": "ntSPkyf1E0ck",
        "colab_type": "text"
      },
      "cell_type": "markdown",
      "source": [
        "# &nbsp;\n",
        "<font size=\"6\" color=\"#B24C00\"  face=\"verdana\"> <B>Task 1</B></font>  \n",
        "Format using backslash (**`\\`**) escape sequences"
      ]
    },
    {
      "metadata": {
        "id": "PnY8ja4nE0cl",
        "colab_type": "code",
        "colab": {}
      },
      "cell_type": "code",
      "source": [
        "# [ ] print \"\\\\\\WARNING!///\"\n",
        "\n"
      ],
      "execution_count": 0,
      "outputs": []
    },
    {
      "metadata": {
        "id": "ngBZ9Hl4E0co",
        "colab_type": "code",
        "colab": {}
      },
      "cell_type": "code",
      "source": [
        "# [ ] print output that is exactly (with quotes): \"What's that?\" isn't a specific question.\n",
        "\n"
      ],
      "execution_count": 0,
      "outputs": []
    },
    {
      "metadata": {
        "id": "74JRWWZ8E0cr",
        "colab_type": "code",
        "colab": {}
      },
      "cell_type": "code",
      "source": [
        "# [ ] from 1 print statement output the text commented below using no spaces\n",
        "# One     Two     Three\n",
        "# Four    Five    Six\n",
        "\n"
      ],
      "execution_count": 0,
      "outputs": []
    },
    {
      "metadata": {
        "id": "cKHCMmQbE0c0",
        "colab_type": "text"
      },
      "cell_type": "markdown",
      "source": [
        "# &nbsp;\n",
        "<font size=\"6\" color=\"#B24C00\"  face=\"verdana\"> <B>Task 2</B></font>\n",
        "## Program: `pre_word()` Function\n",
        "Function has a single string parameter that it checks s is a single word starting with \"pre\"\n",
        "- Check if word starts with \"pre\"\n",
        "- Check if word .isalpha() \n",
        "- if all checks pass: return **`True`**\n",
        "- if any checks fail: return **`False`**\n",
        "- **Test** \n",
        "  - get input using the directions: *enter a word that starts with \"pre\": *\n",
        "  - call pre_word() with the input string\n",
        "  - test **if** return value is **`False`** and print message explaining not a \"pre\" word \n",
        "  - **else** print message explaining is a valid \"pre\" word"
      ]
    },
    {
      "metadata": {
        "id": "MdwliIEQE0c1",
        "colab_type": "code",
        "colab": {
          "base_uri": "https://localhost:8080/",
          "height": 50
        },
        "outputId": "8028a4d1-b9a4-4af7-a56f-0c3f5fa0b0bd"
      },
      "cell_type": "code",
      "source": [
        "# [ ] create and test pre_word()\n",
        "\n",
        "def pre_word(s = \"\"):\n",
        "  if s.lower().startswith(\"pre\") and s.isalpha():\n",
        "    print(\"Your word starts with the three letter prefix 'pre'. Correct!!!! Yay!!\")\n",
        "  else:\n",
        "    print(\"You word is not within the text parameters! Sorry!\")\n",
        "    \n",
        "user_word = input(\"Please input a word, whose first 3 letters start with 'PRE': \")\n",
        "\n",
        "pre_word(user_word)\n",
        "\n"
      ],
      "execution_count": 5,
      "outputs": [
        {
          "output_type": "stream",
          "text": [
            "Please input a word, whose first 3 letters start with 'PRE': prelude\n",
            "Your word starts with the three letter prefix 'pre'. Correct!!!! Yay!!\n"
          ],
          "name": "stdout"
        }
      ]
    },
    {
      "metadata": {
        "id": "KZcGwBD9E0c5",
        "colab_type": "text"
      },
      "cell_type": "markdown",
      "source": [
        "# &nbsp;\n",
        "<font size=\"6\" color=\"#B24C00\"  face=\"verdana\"> <B>Task 5</B></font>\n",
        "## Fix the Errors"
      ]
    },
    {
      "metadata": {
        "id": "ny-gwhWIE0c8",
        "colab_type": "code",
        "colab": {}
      },
      "cell_type": "code",
      "source": [
        "# [ ] review, run, fix\n",
        "print(\"Hello\" + \\n + \"World!\")\n",
        "\n"
      ],
      "execution_count": 0,
      "outputs": []
    },
    {
      "metadata": {
        "id": "4adYyxIZE0dB",
        "colab_type": "text"
      },
      "cell_type": "markdown",
      "source": [
        "[Terms of use](http://go.microsoft.com/fwlink/?LinkID=206977) &nbsp; [Privacy & cookies](https://go.microsoft.com/fwlink/?LinkId=521839) &nbsp; © 2017 Microsoft"
      ]
    }
  ]
}