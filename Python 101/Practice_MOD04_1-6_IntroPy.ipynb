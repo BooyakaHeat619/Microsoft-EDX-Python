{
  "nbformat": 4,
  "nbformat_minor": 0,
  "metadata": {
    "colab": {
      "name": "Practice_MOD04_1-6_IntroPy.ipynb",
      "version": "0.3.2",
      "provenance": [],
      "include_colab_link": true
    },
    "language_info": {
      "mimetype": "text/x-python",
      "nbconvert_exporter": "python",
      "name": "python",
      "pygments_lexer": "ipython3",
      "version": "3.5.4",
      "file_extension": ".py",
      "codemirror_mode": {
        "version": 3,
        "name": "ipython"
      }
    },
    "kernelspec": {
      "display_name": "Python 3",
      "language": "python",
      "name": "python3"
    }
  },
  "cells": [
    {
      "cell_type": "markdown",
      "metadata": {
        "id": "view-in-github",
        "colab_type": "text"
      },
      "source": [
        "<a href=\"https://colab.research.google.com/github/thecodinguru/Microsoft-EDX-Python/blob/master/Python%20101/Practice_MOD04_1-6_IntroPy.ipynb\" target=\"_parent\"><img src=\"https://colab.research.google.com/assets/colab-badge.svg\" alt=\"Open In Colab\"/></a>"
      ]
    },
    {
      "metadata": {
        "id": "rv_4BIQxBmC9",
        "colab_type": "text"
      },
      "cell_type": "markdown",
      "source": [
        "# 1-6.2 Intro Python Practice\n",
        "## Nested Conditionals\n",
        "<font size=\"5\" color=\"#00A0B2\"  face=\"verdana\"> <B>Student will be able to</B></font>\n",
        "- create nested conditional logic in code  \n",
        "- print format print using escape sequence (**\\**)"
      ]
    },
    {
      "metadata": {
        "id": "YxvCJUoCBmDA",
        "colab_type": "text"
      },
      "cell_type": "markdown",
      "source": [
        "# &nbsp;\n",
        "<font size=\"6\" color=\"#B24C00\"  face=\"verdana\"> <B>Tasks</B></font>  "
      ]
    },
    {
      "metadata": {
        "id": "dP4E7x_8BmDB",
        "colab_type": "code",
        "colab": {}
      },
      "cell_type": "code",
      "source": [
        "# [ ] print a string that outputs the following exactly: The new line character is \"\\n\"\n",
        "\n"
      ],
      "execution_count": 0,
      "outputs": []
    },
    {
      "metadata": {
        "id": "rPLj3WdsBmDJ",
        "colab_type": "code",
        "colab": {}
      },
      "cell_type": "code",
      "source": [
        "# [ ] print output that is exactly (with quotes): \"That's how we escape!\"\n",
        "\n"
      ],
      "execution_count": 0,
      "outputs": []
    },
    {
      "metadata": {
        "id": "4YbskLLoBmDO",
        "colab_type": "code",
        "colab": {}
      },
      "cell_type": "code",
      "source": [
        "# [ ] with only 1 print statement and using No Space Characters, output the text commented below  \n",
        "\n",
        "# 1       one\n",
        "# 22      two\n",
        "# 333     three\n",
        "\n"
      ],
      "execution_count": 0,
      "outputs": []
    },
    {
      "metadata": {
        "id": "Wp75UGhCBmDR",
        "colab_type": "text"
      },
      "cell_type": "markdown",
      "source": [
        "# &nbsp;\n",
        "## Program: quote_me() Function\n",
        "quote_me takes a string argument and returns a string that will display surrounded with **added double quotes** if printed  \n",
        "- check if passed string starts with a double quote (`\"\\\"\"`), then surround string with single quotations \n",
        "- if the passed string starts with single quote, or if doesn't start with a quotation mark, then surround with double quotations  \n",
        "\n",
        "Test the function code passing string input as the argument to quote_me() "
      ]
    },
    {
      "metadata": {
        "id": "DqJFw5EZBmDS",
        "colab_type": "code",
        "colab": {}
      },
      "cell_type": "code",
      "source": [
        "# [ ] create and test quote_me()\n",
        "\n",
        "\n"
      ],
      "execution_count": 0,
      "outputs": []
    },
    {
      "metadata": {
        "id": "dhqLqtCzBmDX",
        "colab_type": "text"
      },
      "cell_type": "markdown",
      "source": [
        "# &nbsp;\n",
        "### Program: shirt order \n",
        "First get input for color and size  \n",
        "- White has sizes L, M \n",
        "- Blue has sizes M, S  \n",
        "\n",
        "print available or unavailable, then  \n",
        "print the order confirmation of color and size  \n",
        "\n",
        "*\n",
        "**hint**: set a variable \"available = False\" before nested if statements and  \n",
        "change to True if color and size are avaliable*"
      ]
    },
    {
      "metadata": {
        "id": "sPR7RY-GBmDY",
        "colab_type": "code",
        "colab": {
          "base_uri": "https://localhost:8080/",
          "height": 84
        },
        "outputId": "bb111773-b69b-4ccd-f836-da5a694cbe18"
      },
      "cell_type": "code",
      "source": [
        "# [ ] create shirt order using nested if \n",
        "\n",
        "White = [\"L\", \"M\"]\n",
        "Blue = [\"M\", \"S\"]\n",
        "\n",
        "user_size = input(\"Please input what size your are looking for? (S for small, M for medium or L for large): \")\n",
        "user_color = input(\"We only have 2 colors in stock, White and Blue. Please choose one: \")\n",
        "\n",
        "if user_color.title().startswith(\"B\"):\n",
        "  if user_size.title().startswith(\"M\"):\n",
        "    print(\"\\nYes, we do have a size M in the color Blue. Be right back...\")\n",
        "  elif user_size.title().startswith(\"S\"):\n",
        "    print(\"\\nYes, we do have a size S in the color Blue. Be right back...\")\n",
        "  elif user_size.title().startswith(\"L\"):\n",
        "    print(\"\\nSorry, we do not have a size L in the color Blue. Maybe next week...\")\n",
        "elif user_color.title().startswith(\"W\"):\n",
        "  if user_size.title().startswith(\"M\"):\n",
        "    print(\"\\nYes, we do have a size M in the color White. Be right back...\")\n",
        "  elif user_size.title().startswith(\"L\"):\n",
        "    print(\"\\nYes, we do have a size L in the color White. Be right back...\")\n",
        "  elif user_size.title().startswith(\"S\"):\n",
        "    print(\"\\nSorry, we do not have a size S in the color Blue. Maybe next week...\")\n",
        "else:\n",
        "  print(\"\\nEither your entry is invalid or the combination you are looking for we do not have in stock. Sorry!! Come back next week!\")\n",
        "  \n",
        "  \n"
      ],
      "execution_count": 8,
      "outputs": [
        {
          "output_type": "stream",
          "text": [
            "Please input what size your are looking for? (S for small, M for medium or L for large): s\n",
            "We only have 2 colors in stock, White and Blue. Please choose one: b\n",
            "\n",
            "Yes, we do have a size S in the color Blue. Be right back...\n"
          ],
          "name": "stdout"
        }
      ]
    },
    {
      "metadata": {
        "id": "J6CSrum_BmDc",
        "colab_type": "text"
      },
      "cell_type": "markdown",
      "source": [
        "# &nbsp;\n",
        "## Program: str_analysis() Function\n",
        "Create the str_analysis() function that takes a string argument.  In the body of the function:\n",
        "- Check `if` string is digits  \n",
        "  - if digits: convert to `int` and check `if` greater than 99  \n",
        "    - if greater than 99, print a message about a \"big number\"  \n",
        "    - if not greater than 99, print message about \"small number\"    \n",
        "  - if not digits: check if string isalpha\n",
        "    - if isalpha print message about being all alpha\n",
        "    - if not isalpha print a message about being neither all alpha nor all digit  \n",
        "    \n",
        "call the function with a string from user input "
      ]
    },
    {
      "metadata": {
        "id": "hCveBsnTBmDd",
        "colab_type": "code",
        "colab": {
          "base_uri": "https://localhost:8080/",
          "height": 67
        },
        "outputId": "d118f8e6-cc4b-4e18-a389-ff3a1116112a"
      },
      "cell_type": "code",
      "source": [
        "# [ ] create and test str_analysis()\n",
        "\n",
        "def str_analysis(string = \"\"):\n",
        "  if string.isdigit():\n",
        "    new_string = int(string)\n",
        "    if new_string > 99:\n",
        "      print(\"\\nThat is a big number!! Jeez!\")\n",
        "    else:\n",
        "      print(\"\\nThat number is smaller than expected!! Aim Higher!\")\n",
        "  elif string.isdigit() == False:\n",
        "    if string.isalpha():\n",
        "      print(\"\\nYour entry is alphabetical in value but not numeric in value!\")\n",
        "    else:\n",
        "      print(\"\\nYou entry is neither alphabetical or numeric in value!\")\n",
        "      \n",
        "user_guess = input(\"Please guess a number: \")\n",
        "      \n",
        "str_analysis(user_guess)\n"
      ],
      "execution_count": 14,
      "outputs": [
        {
          "output_type": "stream",
          "text": [
            "Please guess a number: 555\n",
            "\n",
            "That is a big number!! Jeez!\n"
          ],
          "name": "stdout"
        }
      ]
    },
    {
      "metadata": {
        "id": "Wu5zlbA1BmDg",
        "colab_type": "text"
      },
      "cell_type": "markdown",
      "source": [
        "# &nbsp;  \n",
        "### Program: ticket_check() - finds out if a seat is available  \n",
        "Call ticket_check() function with 2 arguments: *section* and *seats* requested and return True or False  \n",
        "- **section** is a string and expects: general, floor\n",
        "- **seats** is an integer and expects: 1 - 10  \n",
        "\n",
        "Check for valid section and seats\n",
        "- if section is *general* (or use startswith \"g\")  \n",
        "  - if seats is 1-10 return True \n",
        "- if section is *floor* (or use starts with \"f\")\n",
        "  - if seats is 1-4 return True  \n",
        "\n",
        "otherwise return False"
      ]
    },
    {
      "metadata": {
        "id": "Ub7yxAEhBmDh",
        "colab_type": "code",
        "colab": {}
      },
      "cell_type": "code",
      "source": [
        "# [ ] create and call ticket_check()\n",
        "\n"
      ],
      "execution_count": 0,
      "outputs": []
    },
    {
      "metadata": {
        "id": "_JYJ6qrLBmDq",
        "colab_type": "text"
      },
      "cell_type": "markdown",
      "source": [
        "[Terms of use](http://go.microsoft.com/fwlink/?LinkID=206977) &nbsp; [Privacy & cookies](https://go.microsoft.com/fwlink/?LinkId=521839) &nbsp; © 2017 Microsoft"
      ]
    }
  ]
}