{
  "metadata": {
    "anaconda-cloud": {},
    "kernelspec": {
      "display_name": "Python 3",
      "language": "python",
      "name": "python3"
    },
    "language_info": {
      "mimetype": "text/x-python",
      "nbconvert_exporter": "python",
      "name": "python",
      "pygments_lexer": "ipython3",
      "version": "3.5.4",
      "file_extension": ".py",
      "codemirror_mode": {
        "version": 3,
        "name": "ipython"
      }
    }
  },
  "nbformat_minor": 2,
  "nbformat": 4,
  "cells": [
    {
      "cell_type": "markdown",
      "source": "# 1-2 Intro Python Practice\n## Strings: input, testing, formatting\n<font size=\"5\" color=\"#00A0B2\"  face=\"verdana\"> <B>Student will be able to</B></font>\n- gather, store and use string `input()`  \n- format `print()` output  \n- test string characteristics  \n- format string output  \n- search for a string in a string  ",
      "metadata": {}
    },
    {
      "cell_type": "markdown",
      "source": "## input()\ngetting input from users",
      "metadata": {}
    },
    {
      "cell_type": "code",
      "source": "# [ ] get user input for a variable named remind_me\nremind_me = input(\"Please input a reminder for yourself: \")\n\n# [ ] print the value of the variable remind_me\nprint(remind_me)\n",
      "metadata": {
        "collapsed": false,
        "scrolled": true,
        "trusted": true
      },
      "execution_count": 2,
      "outputs": [
        {
          "text": "Do not leave trash out too long\n",
          "name": "stdout",
          "output_type": "stream"
        }
      ]
    },
    {
      "cell_type": "code",
      "source": "# use string addition to print \"remember: \" before the remind_me input string\nprint(\"Remember:\", remind_me + \"!!\")\n",
      "metadata": {
        "collapsed": false,
        "trusted": true
      },
      "execution_count": 5,
      "outputs": [
        {
          "text": "Remember: Do not leave trash out too long!!\n",
          "name": "stdout",
          "output_type": "stream"
        }
      ]
    },
    {
      "cell_type": "markdown",
      "source": "### Program: Meeting Details\n#### [ ] get user **input** for meeting subject and time\n`what is the meeting subject?: plan for graduation`  \n`what is the meeting time?: 3:00 PM on Monday`  \n\n#### [ ] print **output** with descriptive labels  \n`Meeting Subject: plan for graduation`  \n`Meeting Time:    3:00 PM on Monday`",
      "metadata": {}
    },
    {
      "cell_type": "code",
      "source": "# [ ] get user input for 2 variables: meeting_subject and meeting_time\nmeeting_subject = \"English Class: \"\nmeeting_time = \"3:00 PM until 5:00 PM on Tuesdays\"\n\n# [ ] use string addition to print meeting subject and time with labels\n\nprint(meeting_subject + meeting_time)\n\n",
      "metadata": {
        "collapsed": false,
        "trusted": true
      },
      "execution_count": 10,
      "outputs": [
        {
          "text": "English Class: 3:00 PM until 5:00 PM on Tuesdays\n",
          "name": "stdout",
          "output_type": "stream"
        }
      ]
    },
    {
      "cell_type": "markdown",
      "source": "## print() formatting \n### combining multiple strings separated by commas in the print() function",
      "metadata": {}
    },
    {
      "cell_type": "code",
      "source": "# [ ] print the combined strings \"Wednesday is\" and \"in the middle of the week\" \nprint(\"Wednesday is\", \"in the middle of the week\")\n",
      "metadata": {
        "collapsed": false,
        "trusted": true
      },
      "execution_count": 1,
      "outputs": [
        {
          "text": "Wednesday is in the middle of the week\n",
          "name": "stdout",
          "output_type": "stream"
        }
      ]
    },
    {
      "cell_type": "code",
      "source": "# [ ] print combined string \"Remember to\" and the string variable remind_me from input above\n\n",
      "metadata": {
        "collapsed": false
      },
      "execution_count": null,
      "outputs": []
    },
    {
      "cell_type": "code",
      "source": "# [ ] Combine 3 variables from above with multiple strings\n\n",
      "metadata": {
        "collapsed": false
      },
      "execution_count": null,
      "outputs": []
    },
    {
      "cell_type": "markdown",
      "source": "### print() quotation marks",
      "metadata": {}
    },
    {
      "cell_type": "code",
      "source": "# [ ] print a string sentence that will display an Apostrophe (')\n\n\n",
      "metadata": {
        "collapsed": false
      },
      "execution_count": null,
      "outputs": []
    },
    {
      "cell_type": "code",
      "source": "# [ ] print a string sentence that will display a quote(\") or quotes\n\n\n",
      "metadata": {
        "collapsed": false
      },
      "execution_count": null,
      "outputs": []
    },
    {
      "cell_type": "markdown",
      "source": "## Boolean string tests",
      "metadata": {}
    },
    {
      "cell_type": "markdown",
      "source": "### Vehicle tests  \n#### get user input for a variable named vehicle  \nprint the following tests results  \n- check True or False if vehicle is All alphabetical characters using .isalpha()  \n- check True or False if vehicle is only All alphabetical & numeric characters  \n- check True or False if vehicle is Capitalized (first letter only)  \n- check True or False if vehicle is All lowercase  \n- **bonus** print description for each test (e.g.- `\"All Alpha: True\"`)",
      "metadata": {}
    },
    {
      "cell_type": "code",
      "source": "# [ ] complete vehicle tests \nvehicle = input(\"Please input a vehicle brand: \")\n\nif vehicle.isalpha() == True:\n    print(\"All Alpha:\", True)\nelse:\n    print(\"All Alpha:\", False)\nif vehicle.isalnum():\n    print(\"All Alphanumeric:\", True)\nelse:\n    print(\"All Alphanumeric:\", False)\nif vehicle.istitle() == True:\n    print(\"First Letter Capitalized:\", True)\nelse:\n    print(\"First Letter Capitalized:\", False)\nif vehicle.islower() == True:\n    print(\"All Lower:\", True)\nelse:\n    print(\"All Lower:\", False)\n\n\n\n",
      "metadata": {
        "collapsed": false,
        "trusted": true
      },
      "execution_count": 3,
      "outputs": [
        {
          "text": "All Alpha: False\nAll Alphanumeric: True\nFirst Letter Capitalized: False\nAll Lower: True\n",
          "name": "stdout",
          "output_type": "stream"
        }
      ]
    },
    {
      "cell_type": "code",
      "source": "# [ ] print True or False if color starts with \"b\" \ncolor = input(\"Please input your favorite color: \")\n\nif color.lower().startswith(\"b\"):\n    print('Color does start with the letter \"B\".', True)\nelse:\n    print('Color does not start with letter \"B\".', False)\n",
      "metadata": {
        "collapsed": false,
        "trusted": true
      },
      "execution_count": 2,
      "outputs": [
        {
          "text": "Color does not start with letter \"B\". False\n",
          "name": "stdout",
          "output_type": "stream"
        }
      ]
    },
    {
      "cell_type": "code",
      "source": "",
      "metadata": {
        "collapsed": true
      },
      "execution_count": null,
      "outputs": []
    },
    {
      "cell_type": "markdown",
      "source": "## Sting formatting",
      "metadata": {}
    },
    {
      "cell_type": "code",
      "source": "# [ ] print the string variable capital_this Capitalizing only the first letter\ncapitalize_this = \"the TIME is Noon.\"\n\ncapitalize_this = capitalize_this.capitalize()\n\nprint(capitalize_this)",
      "metadata": {
        "collapsed": false,
        "trusted": true
      },
      "execution_count": 4,
      "outputs": [
        {
          "text": "The time is noon.\n",
          "name": "stdout",
          "output_type": "stream"
        }
      ]
    },
    {
      "cell_type": "code",
      "source": "# print the string variable swap_this in swapped case\nswap_this = \"wHO writes LIKE tHIS?\"\n\nswap_this = swap_this.swapcase()\n\nprint(swap_this)\n",
      "metadata": {
        "collapsed": false,
        "trusted": true
      },
      "execution_count": 5,
      "outputs": [
        {
          "text": "Who WRITES like This?\n",
          "name": "stdout",
          "output_type": "stream"
        }
      ]
    },
    {
      "cell_type": "code",
      "source": "# print the string variable whisper_this in all lowercase\nwhisper_this = \"Can you hear me?\"\n\nwhisper_this = whisper_this.lower()\n\nprint(whisper_this)",
      "metadata": {
        "collapsed": false,
        "trusted": true
      },
      "execution_count": 7,
      "outputs": [
        {
          "text": "can you hear me?\n",
          "name": "stdout",
          "output_type": "stream"
        }
      ]
    },
    {
      "cell_type": "code",
      "source": "# print the string variable yell_this in all UPPERCASE\nyell_this = \"Can you hear me Now!?\"\n\nyell_this = yell_this.upper()\n\nprint(yell_this)",
      "metadata": {
        "collapsed": false,
        "trusted": true
      },
      "execution_count": 8,
      "outputs": [
        {
          "text": "CAN YOU HEAR ME NOW!?\n",
          "name": "stdout",
          "output_type": "stream"
        }
      ]
    },
    {
      "cell_type": "code",
      "source": "#format input using .upper(), .lower(), .swapcase, .capitalize()\nformat_input = input('enter a string to reformat: ')\n",
      "metadata": {
        "collapsed": false
      },
      "execution_count": null,
      "outputs": []
    },
    {
      "cell_type": "markdown",
      "source": "### input() formatting",
      "metadata": {}
    },
    {
      "cell_type": "code",
      "source": "# [ ] get user input for a variable named color\n# [ ] modify color to be all lowercase and print\n\ncolor = input(\"Please input your favorite color: \")\n\ncolor = color.lower()\n\nprint(color)\n",
      "metadata": {
        "collapsed": false,
        "trusted": true
      },
      "execution_count": 10,
      "outputs": [
        {
          "text": "red\n",
          "name": "stdout",
          "output_type": "stream"
        }
      ]
    },
    {
      "cell_type": "code",
      "source": "# [ ] get user input using variable remind_me and format to all **lowercase** and print\n# [ ] test using input with mixed upper and lower cases\n\n",
      "metadata": {
        "collapsed": false
      },
      "execution_count": null,
      "outputs": []
    },
    {
      "cell_type": "code",
      "source": "# [] get user input for the variable yell_this and format as a \"YELL\" to ALL CAPS\n\n",
      "metadata": {
        "collapsed": false
      },
      "execution_count": null,
      "outputs": []
    },
    {
      "cell_type": "code",
      "source": "",
      "metadata": {
        "collapsed": true
      },
      "execution_count": null,
      "outputs": []
    },
    {
      "cell_type": "markdown",
      "source": "## \"in\" keyword\n### boolean: short_str in long_str",
      "metadata": {}
    },
    {
      "cell_type": "code",
      "source": "# [ ] get user input for the name of some animals in the variable animals_input\nanimals_input = input(\"Please inout your favorite animals seperated by a comma(,) : \")\n\n# [ ] print true or false if 'cat' is in the string variable animals_input\ndef nameAnimal(animal):\n    if \"cat\" in animals_input:\n        return True\n    else:\n        return False\n    \nnameAnimal(animals_input)",
      "metadata": {
        "collapsed": false,
        "trusted": true
      },
      "execution_count": 6,
      "outputs": [
        {
          "execution_count": 6,
          "output_type": "execute_result",
          "data": {
            "text/plain": "True"
          },
          "metadata": {}
        }
      ]
    },
    {
      "cell_type": "code",
      "source": "# [ ] get user input for color\n\nuserColor = input(\"Please input your favorite color: \")\n# [ ] print True or False for starts with \"b\"\ndef nameUserColor(color):\n    if color.lower().startswith(\"b\"):\n        return True\n    else:\n        return False\n\nnameUserColor(userColor)\n\n# [ ] print color variable value exactly as input \n#     test with input: \"Blue\", \"BLUE\", \"bLUE\"\n\n\n\n",
      "metadata": {
        "collapsed": true,
        "trusted": true
      },
      "execution_count": 12,
      "outputs": [
        {
          "execution_count": 12,
          "output_type": "execute_result",
          "data": {
            "text/plain": "True"
          },
          "metadata": {}
        }
      ]
    },
    {
      "cell_type": "markdown",
      "source": "## Program: guess what I'm reading\n### short_str in long_str\n\n1. **[ ]** get user **`input`** for a single word describing something that can be read \n save in a variable called **can_read**  \n e.g. - \"website\", \"newspaper\", \"blog\", \"textbook\"  \n &nbsp;  \n2. **[ ]** get user **`input`** for 3 things can be read  \n save in a variable called **can_read_things**  \n&nbsp;  \n\n3. **[ ]** print **`true`** if the **can_read** string is found  \n **in** the **can_read_things** string variable\n  \n*example of program input and output*  \n[![01 02 practice Allergy-input](https://iajupyterprodblobs.blob.core.windows.net/imagecontainer/guess_reading.gif) ](https://1drv.ms/i/s!Am_KPRosgtaij7A_G6RtDlWZeYA3ZA)\n",
      "metadata": {}
    },
    {
      "cell_type": "code",
      "source": "# project: \"guess what I'm reading\"\n\n# 1[ ] get 1 word input for can_read variable\ncan_read = input(\"Please enter 1 item that can be considered 'reading material': \")\n\n# 2[ ] get 3 things input for can_read_things variable\ncan_read_things = input(\"Please enter 3 items than can be considered as 'reading material': \")\nprint()\n\n# 3[ ] print True if can_read is in can_read_things\nif can_read in can_read_things:\n    print(\"item found =\", True)\nelse:\n    print(\"item found =\", False)\n\n# [] challenge: format the output to read \"item found = True\" (or false)\n# hint: look print formatting exercises\n\n",
      "metadata": {
        "collapsed": false,
        "trusted": true
      },
      "execution_count": null,
      "outputs": []
    },
    {
      "cell_type": "markdown",
      "source": "## Program: Allergy Check\n\n1. **[ ]** get user **`input`** for categories of food eaten in the last 24 hours  \n save in a variable called **input_test**  \n *example input*\n [![01 02 practice Allergy-input](https://iajupyterprodblobs.blob.core.windows.net/imagecontainer/eaten_input.gif) ](https://1drv.ms/i/s!Am_KPRosgtaij65qzFD5CGvv95-ijg)\n&nbsp;  \n2. **[ ]** print **`True`** if \"dairy\" is in the **input_test** string  \n**[ ]** Test the code so far  \n&nbsp;\n3. **[ ]** modify the print statement to output similar to below  \n*example output*\n[![01 02 Allergy output](https://iajupyterprodblobs.blob.core.windows.net/imagecontainer/eaten_output.gif) ](https://1drv.ms/i/s!Am_KPRosgtaij65rET-wmlpCdMX7CQ)  \nTest the code so far trying input including the string \"dairy\" and without  \n&nbsp;  \n\n4. **[ ]** repeat the process checking the input for \"nuts\", **challenge** add \"Seafood\" and \"chocolate\"  \n**[ ]** Test your code  \n&nbsp;  \n  \n5. **[ ] challenge:** make your code work for input regardless of case, e.g. - print **`True`** for \"Nuts\", \"NuTs\", \"NUTS\" or \"nuts\"  \n",
      "metadata": {}
    },
    {
      "cell_type": "code",
      "source": "# Allergy check \n\n# 1[ ] get input for test\n\n\n# 2/3[ ] print True if \"dairy\" is in the input or False if not\n\n\n# 4[ ] Check if \"nuts\" are in the input\n\n# 4+[ ] Challenge: Check if \"seafood\" is in the input\n\n# 4+[ ] Challenge: Check if \"chocolate\" is in the input\n\n",
      "metadata": {
        "collapsed": false
      },
      "execution_count": null,
      "outputs": []
    },
    {
      "cell_type": "markdown",
      "source": "[Terms of use](http://go.microsoft.com/fwlink/?LinkID=206977) &nbsp; [Privacy & cookies](https://go.microsoft.com/fwlink/?LinkId=521839) &nbsp; © 2017 Microsoft",
      "metadata": {}
    }
  ]
}