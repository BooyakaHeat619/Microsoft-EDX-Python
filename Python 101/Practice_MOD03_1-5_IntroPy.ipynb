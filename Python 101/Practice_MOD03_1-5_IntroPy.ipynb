{
  "metadata": {
    "anaconda-cloud": {},
    "kernelspec": {
      "display_name": "Python 3",
      "language": "python",
      "name": "python3"
    },
    "language_info": {
      "mimetype": "text/x-python",
      "nbconvert_exporter": "python",
      "name": "python",
      "file_extension": ".py",
      "version": "3.5.4",
      "pygments_lexer": "ipython3",
      "codemirror_mode": {
        "version": 3,
        "name": "ipython"
      }
    }
  },
  "nbformat_minor": 2,
  "nbformat": 4,
  "cells": [
    {
      "cell_type": "markdown",
      "source": "# 1-5 Intro Python Practice  \n## conditionals, type, and mathematics extended   \n&nbsp;\n<font size=\"5\" color=\"#00A0B2\"  face=\"verdana\"> <B>Student will be able to</B></font>  \n- code more than two choices using **`elif`** \n- gather numeric input using type casting  \n- perform subtraction, multiplication and division operations in code  &nbsp;  \n",
      "metadata": {}
    },
    {
      "cell_type": "markdown",
      "source": "# &nbsp;  \n<font size=\"6\" color=\"#B24C00\"  face=\"verdana\"> <B>Tasks</B></font>",
      "metadata": {}
    },
    {
      "cell_type": "markdown",
      "source": "### Rainbow colors\nask for input of a favorite rainbow color first letter: ROYGBIV  \n\nUsing `if`, `elif`, and `else`:  \n- print the color matching the letter  \n    - R = Red  \n    - O = Orange  \n    - Y = Yellow  \n    - G = Green\n    - B = Blue\n    - I = Indigo\n    - V = Violet\n    - else print \"no match\"\n",
      "metadata": {}
    },
    {
      "cell_type": "code",
      "source": "# [ ] complete rainbow colors\n\ndef color_guess(guess = \"\"):\n    if guess.lower().startswith(\"r\"):\n        print(\"Your guess was Red\")\n    elif guess.lower().startswith(\"o\"):\n        print(\"Your guess was Orange\")\n    elif guess.lower().startswith(\"y\"):\n        print(\"Your guess was Yellow\")\n    elif guess.lower().startswith(\"g\"):\n        print(\"Your guess was Green\")\n    elif guess.lower().startswith(\"b\"):\n        print(\"Your guess was Blue\")\n    elif guess.lower().startswith(\"i\"):\n        print(\"Your guess was Indigo\")\n    elif guess.lower().startswith(\"v\"):\n        print(\"Your guess was Violet\")\n    else:\n        print(\"No Match\")\n        \nuser_guess = input(\"Please input the first letter of your favorite color: \")\n\ncolor_guess(user_guess)\n\n",
      "metadata": {
        "collapsed": false,
        "trusted": true
      },
      "execution_count": 14,
      "outputs": [
        {
          "text": "Your guess was Red\n",
          "name": "stdout",
          "output_type": "stream"
        }
      ]
    },
    {
      "cell_type": "code",
      "source": "# [ ] make the code above into a function rainbow_color() that has a string parameter, \n# get input and call the function and return the matching color as a string or \"no match\" message.\n# Call the function and print the return string.\n\n",
      "metadata": {
        "collapsed": false
      },
      "execution_count": null,
      "outputs": []
    },
    {
      "cell_type": "markdown",
      "source": "# &nbsp;  \n**Create function age_20() that adds or subtracts 20 from your age for a return value based on current age** (use `if`) \n- call the funtion with user input and then use the return value in a sentence  \nexample `age_20(25)` returns **5**: \n> \"5 years old, 20 years difference from now\"",
      "metadata": {}
    },
    {
      "cell_type": "code",
      "source": "# [ ] complete age_20()\n\ndef age_20(age = \"\"):\n    user_age = int(age) - 20\n\n    if user_age < 0:\n        print(\"Age is below 0. Your still in your mommy's womb. Be patient!\")\n    else:\n        print(\"20 years ago you were\", user_age, \"years old.\")\n\nyourAge = input(\"Please enter your age: \")\n\nage_20(yourAge)",
      "metadata": {
        "collapsed": false,
        "trusted": true
      },
      "execution_count": 20,
      "outputs": [
        {
          "text": "20 years ago you were 10 years old.\n",
          "name": "stdout",
          "output_type": "stream"
        }
      ]
    },
    {
      "cell_type": "markdown",
      "source": "**create a function rainbow_or_age that takes a string argument**\n- if argument is a digit return the value of calling age_20() with the str value cast as **`int`** \n- if argument is an alphabetical character return the value of calling rainbow_color() with the str\n- if neither return FALSE",
      "metadata": {}
    },
    {
      "cell_type": "code",
      "source": "# [ ]  create rainbow_or_age()\n\n",
      "metadata": {
        "collapsed": false
      },
      "execution_count": null,
      "outputs": []
    },
    {
      "cell_type": "code",
      "source": "# [ ]  add 2 numbers from input using a cast to integer and display the answer \n\n",
      "metadata": {
        "collapsed": false
      },
      "execution_count": null,
      "outputs": []
    },
    {
      "cell_type": "code",
      "source": "# [ ] Multiply 2 numbers from input using cast and save the answer as part of a string \"the answer is...\"\n# display the string using print\n\n",
      "metadata": {
        "collapsed": false
      },
      "execution_count": null,
      "outputs": []
    },
    {
      "cell_type": "code",
      "source": "# [ ] get input of 2 numbers and display the average: (num1 + num2) divided by 2\n\n",
      "metadata": {
        "collapsed": false
      },
      "execution_count": null,
      "outputs": []
    },
    {
      "cell_type": "code",
      "source": "# [ ] get input of 2 numbers and subtract the largest from the smallest (use an if statement to see which is larger)\n# show the answer\n\n",
      "metadata": {
        "collapsed": false
      },
      "execution_count": null,
      "outputs": []
    },
    {
      "cell_type": "code",
      "source": "# [ ] Divide a larger number by a smaller number and print the integer part of the result\n# don't divide by zero! if a zero is input make the result zero\n# [ ] cast the answer to an integer to cut off the decimals and print the result\n\n",
      "metadata": {
        "collapsed": false
      },
      "execution_count": null,
      "outputs": []
    },
    {
      "cell_type": "markdown",
      "source": "[Terms of use](http://go.microsoft.com/fwlink/?LinkID=206977) &nbsp; [Privacy & cookies](https://go.microsoft.com/fwlink/?LinkId=521839) &nbsp; © 2017 Microsoft",
      "metadata": {}
    }
  ]
}