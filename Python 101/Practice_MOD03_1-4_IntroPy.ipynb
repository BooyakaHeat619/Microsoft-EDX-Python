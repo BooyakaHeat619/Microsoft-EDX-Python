{
  "metadata": {
    "anaconda-cloud": {},
    "kernelspec": {
      "display_name": "Python 3",
      "language": "python",
      "name": "python3"
    },
    "language_info": {
      "mimetype": "text/x-python",
      "nbconvert_exporter": "python",
      "name": "python",
      "pygments_lexer": "ipython3",
      "version": "3.5.4",
      "file_extension": ".py",
      "codemirror_mode": {
        "version": 3,
        "name": "ipython"
      }
    }
  },
  "nbformat_minor": 2,
  "nbformat": 4,
  "cells": [
    {
      "cell_type": "markdown",
      "source": "# 1-4.3 Intro Python Practice\n## Conditionals \n<font size=\"5\" color=\"#00A0B2\"  face=\"verdana\"> <B>Student will be able to</B></font>  \n- **control code flow with `if`... `else` conditional logic**  \n  - using Boolean string methods (`.isupper(), .isalpha(), .startswith()...`)  \n  - using comparision (`>, <, >=, <=, ==, !=`)  \n  - using Strings in comparisons  ",
      "metadata": {}
    },
    {
      "cell_type": "markdown",
      "source": "## `if else`\n",
      "metadata": {}
    },
    {
      "cell_type": "code",
      "source": "# [ ] input a variable: age as digit and cast to int\n# if age greater than or equal to 12 then print message on age in 10 years \n# or else print message \"It is good to be\" age\n\nage = int(input(\"Please enter your age: \"))\n\nif age >= 12:\n    print(\"You will be\", age + 10, \"years old in 10 years\")\nelse:\n    print(\"Must be nice to be\", age)\n\n\n",
      "metadata": {
        "collapsed": true,
        "trusted": true
      },
      "execution_count": 7,
      "outputs": [
        {
          "text": "You will be 30 years old in 10 years\n",
          "name": "stdout",
          "output_type": "stream"
        }
      ]
    },
    {
      "cell_type": "code",
      "source": "# [ ] input a number \n# if number IS a digit string then cast to int\n# print number \"greater than 100 is\" True/False\n# if number is NOT a digit string then message the user that \"only int is accepted\"\n\n\n",
      "metadata": {
        "collapsed": true
      },
      "execution_count": null,
      "outputs": []
    },
    {
      "cell_type": "markdown",
      "source": "### Guessing a letter A-Z  \n**check_guess()** takes 2 string arguments: **letter and guess** (both expect single alphabetical character)   \n    - if guess is not an alpha character print invalid and return False\n    - test and print if guess is \"high\" or \"low\" and return False\n    - test and print if guess is \"correct\" and return True",
      "metadata": {}
    },
    {
      "cell_type": "code",
      "source": "# [ ] create check_guess()\n# call with test\nletter = \"cookie\"\nguess = input(\"Please guess a word: \")\n\ndef check_guess(letter, guess):\n\n    if guess.isalpha() == False:\n        print(\"Invalid guess\", False)\n    elif guess.lower() == \"high\" or guess.lower() == \"low\":\n        print(False)\n    elif guess.lower() == letter:\n        return True\n    else:\n        return False\n\ncheck_guess(letter, guess)\n",
      "metadata": {
        "collapsed": true,
        "trusted": true
      },
      "execution_count": 1,
      "outputs": [
        {
          "execution_count": 1,
          "output_type": "execute_result",
          "data": {
            "text/plain": "False"
          },
          "metadata": {}
        }
      ]
    },
    {
      "cell_type": "code",
      "source": "# [ ] call check_guess with user input\n\n",
      "metadata": {
        "collapsed": true
      },
      "execution_count": null,
      "outputs": []
    },
    {
      "cell_type": "markdown",
      "source": "### Letter Guess\n**create letter_guess() function that gives user 3 guesses**\n- takes a letter character argument for the answer letter\n- gets user input for letter guess  \n- calls check_guess() with answer and guess\n- End letter_guess if \n    - check_guess() equals True, return True  \n    - or after 3 failed attempts, return False",
      "metadata": {}
    },
    {
      "cell_type": "code",
      "source": "# [ ] create letter_guess() function, call the function to test\n\nletter_guess(letter)\n\n",
      "metadata": {
        "collapsed": true
      },
      "execution_count": null,
      "outputs": []
    },
    {
      "cell_type": "markdown",
      "source": "### Pet Conversation\n**ask the user for a sentence about a pet and then reply**  \n- get user input in variable: about_pet\n- using a series of **if** statements respond with appropriate conversation\n  - check if \"dog\" is in the string about_pet (sample reply \"Ah, a dog\")\n  - check if \"cat\" is in the string about_pet\n  - check if 1 or more animal is in string about_pet\n- no need for **else**'s\n- finish with thanking for the story",
      "metadata": {}
    },
    {
      "cell_type": "code",
      "source": "# [ ] complete pet conversation\n\nabout_pet = input(\"Please tell me what kind of pet you have: \")\n\n\nif \"dog\" in about_pet:\n    print(\"Ah, okay you have a dog! So lovely! Right this way please..\")\nelif \"cat\" in about_pet:\n    print(\"Ah, nice! A cat. Okay, follow me...\")\nelif \"bird\" in about_pet:\n    print(\"Aww, a bird! So beautiful! Please be seated, I will be with you shortly..\")\n",
      "metadata": {
        "collapsed": true,
        "trusted": true
      },
      "execution_count": 7,
      "outputs": [
        {
          "text": "Ah, okay you have a dog! So lovely! Right this way please..\n\n",
          "name": "stdout",
          "output_type": "stream"
        }
      ]
    },
    {
      "cell_type": "markdown",
      "source": "[Terms of use](http://go.microsoft.com/fwlink/?LinkID=206977) &nbsp; [Privacy & cookies](https://go.microsoft.com/fwlink/?LinkId=521839) &nbsp; © 2017 Microsoft",
      "metadata": {}
    }
  ]
}