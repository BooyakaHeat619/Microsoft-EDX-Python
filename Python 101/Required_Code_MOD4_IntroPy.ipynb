{
  "nbformat": 4,
  "nbformat_minor": 0,
  "metadata": {
    "colab": {
      "name": "Required_Code_MOD4_IntroPy.ipynb",
      "version": "0.3.2",
      "provenance": [],
      "include_colab_link": true
    },
    "language_info": {
      "mimetype": "text/x-python",
      "nbconvert_exporter": "python",
      "name": "python",
      "file_extension": ".py",
      "version": "3.5.4",
      "pygments_lexer": "ipython3",
      "codemirror_mode": {
        "version": 3,
        "name": "ipython"
      }
    },
    "kernelspec": {
      "name": "python3",
      "display_name": "Python 3",
      "language": "python"
    }
  },
  "cells": [
    {
      "cell_type": "markdown",
      "metadata": {
        "id": "view-in-github",
        "colab_type": "text"
      },
      "source": [
        "<a href=\"https://colab.research.google.com/github/thecodinguru/Microsoft-EDX-Python/blob/master/Python%20101/Required_Code_MOD4_IntroPy.ipynb\" target=\"_parent\"><img src=\"https://colab.research.google.com/assets/colab-badge.svg\" alt=\"Open In Colab\"/></a>"
      ]
    },
    {
      "metadata": {
        "collapsed": true,
        "id": "LRF6e7d421GB",
        "colab_type": "text"
      },
      "cell_type": "markdown",
      "source": [
        "#  Module 4 Required Coding Activity  \n",
        "Introduction to Python Unit 1 \n",
        "\n",
        "The activity is based on modules 1 - 4 and is similar to the Jupyter Notebooks **`Practice_MOD04_1-6_IntroPy.ipynb`** and **`Practice_MOD04_1-7_IntroPy.ipynb`** which you may have completed as practice.  This activity is a new version of the str_analysis() function.\n",
        "\n",
        "| Some Assignment Requirements |\n",
        "|:-------------------------------|\n",
        "|This program requires the use of<ul><li>**`while`** loop to get non-empty input</li><li>**`if, else`**</li><li>**`if, else`** (nested)</li><li>**`.isdigit()`** check for integer only input</li><li>**`.isalpha()`** check for alphabetic only input</li></ul><br/>The program should **only** use code syntax covered in modules 1 - 4.<br/><br/>The program must result in printed message analysis of the input.  |\n",
        "\n",
        "\n",
        "  \n",
        "## Program: `str_analysis()` Function  \n",
        "\n",
        "Create the str_analysis() function that takes 1 string argument and returns a string message.  The message will be an analysis of a test string that is passed as an argument to str_analysis(). The function should respond with messages such as:  \n",
        "- \"big number\"\n",
        "- \"small number\"\n",
        "- \"all alphabetic\"\n",
        "- \"multiple character types\"\n",
        "\n",
        "The program will call str_analysis() with a string argument from input collected within a while loop.  The while loop will test if input is empty (an empty string \"\") and continue to loop and gather input until the user submits at least 1 character (input cannot be empty).  \n",
        "\n",
        "The program then calls the str_analysis() function and prints the **return** message.\n",
        "\n",
        "\n",
        "\n",
        "#### Sample input and output:  \n",
        "enter nothing (twice) then enter a word  \n",
        "```\n",
        "enter word or integer: \n",
        "enter word or integer: \n",
        "enter word or integer: Hello\n",
        "\"Hello\" is all alphabetical characters!\n",
        "  \n",
        "```  \n",
        "-----    \n",
        "  \n",
        "alphabetical word input \n",
        "```\n",
        "enter word or integer: carbonization\n",
        "\"carbonization\" is all alphabetical characters!\n",
        "  \n",
        "```  \n",
        "-----     \n",
        "   \n",
        "numeric inputs\n",
        "```\n",
        "enter word or integer: 30\n",
        "30 is a smaller number than expected\n",
        "\n",
        "enter word or integer: 1024\n",
        "1024 is a pretty big number\n",
        "```  \n",
        "-----  \n",
        "\n",
        "\n",
        "### loop until non-empty input is submitted  \n",
        "This diagram represents the input part of the assignment - it is the loop to keep prompting the user for input until they submit some input (non-empty).  \n",
        "\n",
        "![image of while Loop with nested if statements described in bulleted text above](https://iajupyterprodblobs.blob.core.windows.net/imagecontainer/input_loop_sketch.png)  \n",
        "\n",
        "Once the user gives input with characters use the input in calling the str_analysis() function.\n",
        "\n",
        "### Additional Details\n",
        "In the body of the str_analysis() function:\n",
        "- Check `if` string is digits  \n",
        "  - if digits: convert to `int` and check `if` greater than 99  \n",
        "    - if greater than 99 print a message about a \"big number\"  \n",
        "    - if not greater than 99 print message about \"small number\"  \n",
        "  - check if string isalpha then (since not digits)\n",
        "    - if isalpha print message about being all alpha\n",
        "  - if not isalpha print a message about being neither all alpha nor all digit  \n",
        "    \n",
        "call the function with a string from user input \n",
        "- Run and test your code before submitting"
      ]
    },
    {
      "metadata": {
        "trusted": false,
        "id": "DmgAX6WD21GE",
        "colab_type": "code",
        "colab": {
          "base_uri": "https://localhost:8080/",
          "height": 50
        },
        "outputId": "c9fb19b0-3c60-402e-9459-3263f93a35d1"
      },
      "cell_type": "code",
      "source": [
        "# [ ] create, call and test the str_analysis() function  \n",
        "# then PASTE THIS CODE into edX  \n",
        "\n",
        "def str_analysis(string = \"\"):\n",
        "  if string.isdigit():\n",
        "    string = float(string)\n",
        "    if string > 99:\n",
        "      print(string, \"is a pretty big number!\")\n",
        "    else:\n",
        "      print(string, \"is a smaller than expected!\")\n",
        "  elif string.isalpha():\n",
        "    print('\"'+ string + '\"',\"is an all alphabetical characters!\")\n",
        "    \n",
        "\n",
        "\n",
        "user_string = input(\"Please input a number or a word: \")\n",
        "\n",
        "while user_string != \"\":\n",
        "  str_analysis(user_string)\n",
        "  break\n",
        "  \n",
        "\n",
        "\n"
      ],
      "execution_count": 13,
      "outputs": [
        {
          "output_type": "stream",
          "text": [
            "Please input a number or a word: 105\n",
            "105.0 is a pretty big number!\n"
          ],
          "name": "stdout"
        }
      ]
    },
    {
      "metadata": {
        "id": "pCqObc5E21GJ",
        "colab_type": "text"
      },
      "cell_type": "markdown",
      "source": [
        "### Need assignment tips and clarification? \n",
        "See the video on the \"End of Module coding assignment > Module 4 Required Code Description\" course page on [edX](https://courses.edx.org/courses/course-v1:Microsoft+DEV236x+4T2017/course)    \n",
        "\n",
        "# Important:  [How to submit the code in edX by pasting](https://courses.edx.org/courses/course-v1:Microsoft+DEV236x+1T2017/wiki/Microsoft.DEV236x.3T2018/paste-code-end-module-coding-assignments/)"
      ]
    },
    {
      "metadata": {
        "collapsed": true,
        "id": "fqfyEKqA21GK",
        "colab_type": "text"
      },
      "cell_type": "markdown",
      "source": [
        "[Terms of use](http://go.microsoft.com/fwlink/?LinkID=206977) &nbsp; [Privacy & cookies](https://go.microsoft.com/fwlink/?LinkId=521839) &nbsp; © 2017 Microsoft"
      ]
    }
  ]
}