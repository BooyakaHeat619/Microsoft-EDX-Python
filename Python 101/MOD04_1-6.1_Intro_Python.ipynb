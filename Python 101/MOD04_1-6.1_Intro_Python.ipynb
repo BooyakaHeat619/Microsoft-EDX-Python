{
  "nbformat": 4,
  "nbformat_minor": 0,
  "metadata": {
    "colab": {
      "name": "MOD04_1-6.1_Intro_Python.ipynb",
      "version": "0.3.2",
      "provenance": [],
      "include_colab_link": true
    },
    "language_info": {
      "codemirror_mode": {
        "name": "ipython",
        "version": 3
      },
      "file_extension": ".py",
      "mimetype": "text/x-python",
      "name": "python",
      "nbconvert_exporter": "python",
      "pygments_lexer": "ipython3",
      "version": "3.5.2"
    },
    "kernelspec": {
      "display_name": "Python 3",
      "language": "python",
      "name": "python3"
    }
  },
  "cells": [
    {
      "cell_type": "markdown",
      "metadata": {
        "id": "view-in-github",
        "colab_type": "text"
      },
      "source": [
        "<a href=\"https://colab.research.google.com/github/thecodinguru/Microsoft-EDX-Python/blob/master/Python%20101/MOD04_1-6.1_Intro_Python.ipynb\" target=\"_parent\"><img src=\"https://colab.research.google.com/assets/colab-badge.svg\" alt=\"Open In Colab\"/></a>"
      ]
    },
    {
      "metadata": {
        "id": "PrKK1i70sQ3f",
        "colab_type": "text"
      },
      "cell_type": "markdown",
      "source": [
        "# 1-6.1 Intro Python\n",
        "## Nested Conditionals\n",
        "-  Nested Conditionals  \n",
        "- Escape Sequence print formatting \"\\\\\"\n",
        "\n",
        "><font size=\"5\" color=\"#00A0B2\"  face=\"verdana\"> <B>Student will be able to</B></font>\n",
        "- create nested conditional logic in code  \n",
        "- format print output using escape \"\\\\\" sequence "
      ]
    },
    {
      "metadata": {
        "id": "RCgJTJsYsQ3o",
        "colab_type": "text"
      },
      "cell_type": "markdown",
      "source": [
        "# &nbsp;\n",
        "<font size=\"6\" color=\"#00A0B2\"  face=\"verdana\"> <B>Concepts</B></font>\n",
        "## nested conditionals\n",
        "# Video: Unit1_Section6.1-nested-conditionals.mp4\n",
        "### nested conditionals\n",
        "**if**  \n",
        "**&nbsp;&nbsp;&nbsp;&nbsp;if**  \n",
        "**&nbsp;&nbsp;&nbsp;&nbsp;&nbsp;&nbsp;&nbsp;&nbsp;if**  \n",
        "**&nbsp;&nbsp;&nbsp;&nbsp;&nbsp;&nbsp;&nbsp;&nbsp;else**  \n",
        "**&nbsp;&nbsp;&nbsp;&nbsp;else**  \n",
        "**else**  \n",
        "\n",
        "### Making a sandwich\n",
        "Taking a sandwich order starts with sandwich choices:\n",
        "> **Cheese or Veggie special?**  \n",
        "if the response is **\"Cheese\"** \"nest\" a sub ask:  \n",
        ">> **Manchego or Cheddar?**  \n",
        "  \n",
        "  \n",
        "|Nested &nbsp;**`if`**&nbsp; statement  flowchart  |\n",
        "| ------ | \n",
        "| ![Image of sandwich order flowchart](https://iajupyterprodblobs.blob.core.windows.net/imagecontainer/flowchart_sandwich.png)   | \n"
      ]
    },
    {
      "metadata": {
        "id": "R2DW37lusQ3r",
        "colab_type": "text"
      },
      "cell_type": "markdown",
      "source": [
        "# &nbsp;\n",
        "<font size=\"6\" color=\"#00A0B2\"  face=\"verdana\"> <B>Examples</B></font>\n",
        "> ***TIP:*** click in input box before typing input "
      ]
    },
    {
      "metadata": {
        "id": "kofl6vJDsQ3t",
        "colab_type": "code",
        "colab": {}
      },
      "cell_type": "code",
      "source": [
        "# simplified example\n",
        "# [ ] review the code then run and following the flowchart paths\n",
        "\n",
        "# ***TIP:*** click in input box before typing\n",
        "\n",
        "sandwich_type = input('\"c\" for Cheese or \"v\" for Veggie Special: ')\n",
        "\n",
        "if sandwich_type.lower() == \"c\":\n",
        "    # select cheese type\n",
        "    cheese_type = input('\"c\" for Cheddar or \"m\" for Manchego: ')\n",
        "    \n",
        "    if cheese_type.lower() == \"c\":\n",
        "        print(\"Here is your Cheddar Cheese sandwich\")\n",
        "    else:\n",
        "        print(\"Here is your Manchego Cheese sandwich\") \n",
        "\n",
        "else:\n",
        "    print(\"Here is your Veggie Special\")"
      ],
      "execution_count": 0,
      "outputs": []
    },
    {
      "metadata": {
        "id": "E-eTMx8xsQ3-",
        "colab_type": "code",
        "colab": {}
      },
      "cell_type": "code",
      "source": [
        "# full example: handling some invalid input and elif statement\n",
        "# [ ] review the code then run following the flowchart paths including **invalid responses** like \"xyz123\"\n",
        "\n",
        "# ***TIP:*** click in input box before typing\n",
        "\n",
        "print(\"Hi, welcome to the sandwich shop.  Please select a sandwich.\")\n",
        "sandwich_type = input('\"c\" for Cheese or \"v\" for Veggie Special: ')\n",
        "# select sandwich type sandwich_type = input('\"c\" for Cheese or \"v\" for Veggie Special: ')\n",
        "print()\n",
        "    \n",
        "if sandwich_type.lower() == \"c\":\n",
        "    # select cheese type\n",
        "    print(\"Please select a cheese.\")\n",
        "    cheese_type = input('\"c\" for Cheddar or \"m\" for Manchego: ')\n",
        "    print()\n",
        "    \n",
        "    if cheese_type.lower() == \"c\":\n",
        "        print(\"Here is your Cheddar Cheese sandwich.  Thank you.\")\n",
        "    elif cheese_type.lower() == \"m\":\n",
        "        print(\"Here is your Manchego Cheese sandwich.  Thank you.\") \n",
        "    else:\n",
        "        print(\"Sorry, we don't have\", cheese_type, \"choice today.\")\n",
        "\n",
        "elif sandwich_type.lower() == \"v\":\n",
        "    print(\"Here is your Veggie Special. Thank you.\")\n",
        "        \n",
        "else:\n",
        "    print(\"Sorry, we don't have\", sandwich_type, \"choice today.\")\n",
        "print()\n",
        "print(\"Goodbye!\")\n"
      ],
      "execution_count": 0,
      "outputs": []
    },
    {
      "metadata": {
        "id": "-eyFIOBzsQ4E",
        "colab_type": "text"
      },
      "cell_type": "markdown",
      "source": [
        "# &nbsp;\n",
        "<font size=\"6\" color=\"#B24C00\"  face=\"verdana\"> <B>Task 1</B></font>\n",
        "## Nested `if` \n",
        "### [ ] Program: Say \"Hello\"\n",
        "- using nested **`if`**\n",
        "  \n",
        "|Say \"Hello\" flowchart  |\n",
        "| ------ | \n",
        "|  ![Image: Say \"Hello\" flowchart](https://iajupyterprodblobs.blob.core.windows.net/imagecontainer/flowchart_say_hello.png) | "
      ]
    },
    {
      "metadata": {
        "id": "0YbjscHesQ4F",
        "colab_type": "code",
        "colab": {
          "base_uri": "https://localhost:8080/",
          "height": 84
        },
        "outputId": "815ceb23-25fa-466b-98c2-c30f8172c31d"
      },
      "cell_type": "code",
      "source": [
        "# [ ] Say \"Hello\" with nested if\n",
        "# [ ] Challenge: handle input other than y/n\n",
        "\n",
        "user_question = input(\"Do you want to say hello? (Y/N): \")\n",
        "user_name = input(\"Please enter your name: \")\n",
        "\n",
        "if user_question.lower() == \"y\":\n",
        "  user_answer = input(\"Do you want to say the full hello? (Y/N): \")\n",
        "  \n",
        "  if user_answer.lower() == \"y\":\n",
        "    print(\"Hello\", user_name + \"!\")\n",
        "  elif user_answer.lower() == \"n\":\n",
        "    print(\"Hi\", user_name + \"!\")\n",
        "    \n",
        "else:\n",
        "  print(\"So\", user_name + \",\", \"you do not want a greeting huh? No worries. Goodbye, my friend!\")"
      ],
      "execution_count": 21,
      "outputs": [
        {
          "output_type": "stream",
          "text": [
            "Do you want to say hello? (Y/N): y\n",
            "Please enter your name: Uzo\n",
            "Do you want to say the full hello? (Y/N): N\n",
            "Hi Uzo!\n"
          ],
          "name": "stdout"
        }
      ]
    },
    {
      "metadata": {
        "id": "fLVm3jyHsQ4M",
        "colab_type": "text"
      },
      "cell_type": "markdown",
      "source": [
        "# &nbsp;\n",
        "<font size=\"6\" color=\"#B24C00\"  face=\"verdana\"> <B>Task 2</B></font>\n",
        "## Nested `if` - testing for `False`\n",
        "### Program:  [ ] 3 Guesses\n",
        "- use nested if statements complete the flowchart code\n",
        "- create a **`birds`** string variable with the names of 1, 2, 3 or more birds to make it easier\n",
        "- get **`bird_guess`** input and use **`bird_guess in bird_names`** to generate Boolean True/False\n",
        "- if the the guess is wrong (**`False`**) create a sub test until the user has had 3 guesses\n",
        "  \n",
        "|3 Guesses (\"Guess the Bird\") flowchart  |\n",
        "| ------ | \n",
        "| ![Image of Guess the Bird flowchart](https://iajupyterprodblobs.blob.core.windows.net/imagecontainer/flowchart_guess_the_bird.png)   | "
      ]
    },
    {
      "metadata": {
        "id": "DqVNR498sQ4O",
        "colab_type": "code",
        "colab": {
          "base_uri": "https://localhost:8080/",
          "height": 50
        },
        "outputId": "729fc2d1-37a1-48de-92cd-15b70652f03a"
      },
      "cell_type": "code",
      "source": [
        "# [ ] Create the \"Guess the bird\" program \n",
        "birds = \"Raven, Hawk, Eagle, Vulture, Pidgeon, Dove, Parrot\"\n",
        "bird_guess = input(\"Please name a kind of bird, your favorite one preferably and we will check our database to see if we have that bird: \")\n",
        "bird_tryTwo = \"\"\n",
        "bird_tryThree = \"\"\n",
        "birds = birds.lower()\n",
        "\n",
        "\n",
        "if bird_guess.lower() in birds:\n",
        "  print(\"Wow, you got it on the 1st try! Amazing! Yes,\", bird_guess.title(), \"is in our bird database!\")\n",
        "elif bird_guess.lower() not in birds:\n",
        "  bird_tryTwo = input(\"Please try again: \")\n",
        "  if bird_tryTwo.lower() in birds:\n",
        "    print(\"I knew you would get it on the 2nd try! Good guess!\", bird_tryTwo.title(), \"is in our bird database.\")\n",
        "  elif bird_tryTwo.lower() not in birds:\n",
        "    bird_tryThree = input(\"Please try again: \")\n",
        "    if bird_tryThree.lower() in birds:\n",
        "      print(\"I guess 3rd try is a charm!\", bird_tryThree.title(), \"is in our bird database.\")\n",
        "    else:\n",
        "      print(\"Sorry your out of tries. See you later!!!\")\n",
        "    \n",
        "\n",
        "  \n",
        "\n",
        "    "
      ],
      "execution_count": 40,
      "outputs": [
        {
          "output_type": "stream",
          "text": [
            "Please name a kind of bird, your favorite one preferably and we will check our database to see if we have that bird: raven\n",
            "Wow, you got it on the 1st try! Amazing! Yes, Raven is in our bird database!\n"
          ],
          "name": "stdout"
        }
      ]
    },
    {
      "metadata": {
        "id": "e3hELzUssQ4V",
        "colab_type": "text"
      },
      "cell_type": "markdown",
      "source": [
        "[Terms of use](http://go.microsoft.com/fwlink/?LinkID=206977) &nbsp; [Privacy & cookies](https://go.microsoft.com/fwlink/?LinkId=521839) &nbsp; © 2017 Microsoft"
      ]
    }
  ]
}