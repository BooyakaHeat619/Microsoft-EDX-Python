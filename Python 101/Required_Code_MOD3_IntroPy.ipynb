{
  "nbformat": 4,
  "nbformat_minor": 0,
  "metadata": {
    "colab": {
      "name": "Required_Code_MOD3_IntroPy.ipynb",
      "version": "0.3.2",
      "provenance": [],
      "include_colab_link": true
    },
    "language_info": {
      "mimetype": "text/x-python",
      "nbconvert_exporter": "python",
      "name": "python",
      "pygments_lexer": "ipython3",
      "version": "3.5.4",
      "file_extension": ".py",
      "codemirror_mode": {
        "version": 3,
        "name": "ipython"
      }
    },
    "kernelspec": {
      "name": "python3",
      "display_name": "Python 3",
      "language": "python"
    }
  },
  "cells": [
    {
      "cell_type": "markdown",
      "metadata": {
        "id": "view-in-github",
        "colab_type": "text"
      },
      "source": [
        "<a href=\"https://colab.research.google.com/github/thecodinguru/Microsoft-EDX-Python/blob/master/Python%20101/Required_Code_MOD3_IntroPy.ipynb\" target=\"_parent\"><img src=\"https://colab.research.google.com/assets/colab-badge.svg\" alt=\"Open In Colab\"/></a>"
      ]
    },
    {
      "metadata": {
        "collapsed": true,
        "id": "a1P3T_kbKpMb",
        "colab_type": "text"
      },
      "cell_type": "markdown",
      "source": [
        "#  Module 3 Required Coding Activity  \n",
        "Introduction to Python Unit 1 \n",
        "\n",
        "This is an activity based on code similar to the Jupyter Notebook **`Practice_MOD03_1-4_IntroPy.ipynb`** and **`Practice_MOD03_1-5_IntroPy.ipynb`** which you may have completed as practice.\n",
        "\n",
        "> **NOTE:** This program requires the use of **`if, elif, else`**, and casting between strings and numbers. The program should use the various code syntax covered in module 3.  \n",
        ">  \n",
        ">The program must result in print output using numeric input similar to that shown in the sample below.\n",
        "\n",
        "## Program: Cheese Order    \n",
        "\n",
        "- set values for maximum and minimum order variables  \n",
        "- set value for price variable\n",
        "- get order_amount input and cast to a number  \n",
        "- check order_amount and give message checking against  \n",
        "  - over maximum\n",
        "  - under minimum\n",
        "- else within maximum and minimum give message with calculated price \n",
        "\n",
        "\n",
        "Sample input and output:\n",
        "```\n",
        "Enter cheese order weight (numeric value): 113\n",
        "113.0 is more than currently available stock\n",
        "```\n",
        "\n",
        "```\n",
        "Enter cheese order weight (numeric value): .15\n",
        "0.15 is below minimum order amount\n",
        "```  \n",
        "\n",
        "```\n",
        "Enter cheese order weight (numeric value): 2\n",
        "2.0 costs $15.98\n",
        "```  "
      ]
    },
    {
      "metadata": {
        "trusted": false,
        "id": "O3L5tRvHKpMd",
        "colab_type": "code",
        "colab": {
          "base_uri": "https://localhost:8080/",
          "height": 50
        },
        "outputId": "e013684c-e384-49ad-ac5a-e28684eb56fe"
      },
      "cell_type": "code",
      "source": [
        "# [ ] create, call and test \n",
        "# then PASTE THIS CODE into edX\n",
        "\n",
        "maxOrders = 20\n",
        "minOrders = 5\n",
        "orderPrice = 1.99\n",
        "\n",
        "def cheese_order(order = 0.0):\n",
        "  \n",
        "  a = 0\n",
        "  \n",
        "  if order > maxOrders:\n",
        "    print(order, \"is more than currently available in stock. Sorry!\")\n",
        "  elif order < minOrders:\n",
        "    print(order, \"is below minimum order weight. Sorry!\")\n",
        "  else:\n",
        "    a = order * orderPrice\n",
        "    print(order, \"costs\", \"$\" + str(a))\n",
        "    \n",
        "order_amount = float(input(\"Please enter the weight of your cheese order: \"))\n",
        "\n",
        "cheese_order(order_amount)\n",
        "    "
      ],
      "execution_count": 9,
      "outputs": [
        {
          "output_type": "stream",
          "text": [
            "Please enter the weight of your cheese order: 15\n",
            "15.0 costs $29.85\n"
          ],
          "name": "stdout"
        }
      ]
    },
    {
      "metadata": {
        "id": "ThDiBbEMKpMi",
        "colab_type": "text"
      },
      "cell_type": "markdown",
      "source": [
        "### Need assignment tips and clarification? \n",
        "See the video on the \"End of Module coding assignment > Module 3 Required Code Description\" course page on [edX](https://courses.edx.org/courses/course-v1:Microsoft+DEV236x+4T2017/course)  \n",
        "\n",
        "# Important:  [How to submit the code in edX by pasting](https://courses.edx.org/courses/course-v1:Microsoft+DEV236x+1T2017/wiki/Microsoft.DEV236x.3T2018/paste-code-end-module-coding-assignments/)"
      ]
    },
    {
      "metadata": {
        "id": "hJXGcRbtKpMi",
        "colab_type": "text"
      },
      "cell_type": "markdown",
      "source": [
        "[Terms of use](http://go.microsoft.com/fwlink/?LinkID=206977) &nbsp; [Privacy & cookies](https://go.microsoft.com/fwlink/?LinkId=521839) &nbsp; © 2017 Microsoft"
      ]
    }
  ]
}